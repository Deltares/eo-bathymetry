{
 "cells": [
  {
   "cell_type": "code",
   "execution_count": 9,
   "metadata": {},
   "outputs": [
    {
     "name": "stdout",
     "output_type": "stream",
     "text": [
      "Requesting data from OA\n",
      "Reading data for beam: gt3r\n",
      "Reading data for beam: gt3l\n",
      "Reading data for beam: gt2r\n",
      "Reading data for beam: gt2l\n",
      "Reading data for beam: gt1r\n",
      "Reading data for beam: gt1l\n"
     ]
    }
   ],
   "source": [
    "import pandas as pd\n",
    "import json\n",
    "import requests\n",
    "\n",
    "trackid = 1081\n",
    "date = '2019-09-06'\n",
    "extents = [47.45681762695317,33.116912841796854,47.59826660156254,33.229522705078104]\n",
    "# Paste the OpenAltimetry API URL for Photon here: \n",
    "OA_API_URL = 'https://openaltimetry.org/data/api/icesat2/atl03?&minx={}&miny={}&maxx={}&maxy={}&date={}&trackId={}&beamName=gt3r&beamName=gt3l&beamName=gt2r&beamName=gt2l&beamName=gt1r&beamName=gt1l'.format(extents[0],extents[1],extents[2],extents[3],date,trackid)\n",
    "\n",
    "# Select the list of confidence to display: 'Noise', 'Buffer', 'Low', 'Medium', 'High'\n",
    "OA_PHOTON_CONFIDENCE = ['Medium', 'High']\n",
    "df_beams = []\n",
    "oa_plots = []\n",
    "\n",
    "# This function will request the 6 beams data using OpenAltimetry's API\n",
    "def getPhotonData(OA_API_URLi):\n",
    "    series = []\n",
    "    b_url = OA_API_URLi + '&client=jupyter'\n",
    "    print('Requesting data from OA')\n",
    "    r = requests.get(b_url)\n",
    "    data = r.json()\n",
    "    return data\n",
    "\n",
    "photon_cloud = getPhotonData(OA_API_URL)\n",
    "for beam in photon_cloud:\n",
    "    print('Reading data for beam: ' + beam['beam_name'])\n",
    "    for photons in beam['series']:\n",
    "        if any(word in photons['name'] for word in OA_PHOTON_CONFIDENCE):\n",
    "            series = []\n",
    "            for p in photons['data']:\n",
    "                series.append({'lat': p[0],'lon': p[1],'h': p[2]})\n",
    "            if (len(series) > 0):\n",
    "                df = pd.DataFrame.from_dict(series)\n",
    "                df.name = beam['beam_name'] + ' ' + photons['name']\n",
    "                df_beams.append(df)"
   ]
  },
  {
   "cell_type": "code",
   "execution_count": null,
   "metadata": {},
   "outputs": [],
   "source": []
  }
 ],
 "metadata": {
  "kernelspec": {
   "display_name": "Python (delta)",
   "language": "python",
   "name": "delta"
  },
  "language_info": {
   "codemirror_mode": {
    "name": "ipython",
    "version": 3
   },
   "file_extension": ".py",
   "mimetype": "text/x-python",
   "name": "python",
   "nbconvert_exporter": "python",
   "pygments_lexer": "ipython3",
   "version": "3.6.7"
  }
 },
 "nbformat": 4,
 "nbformat_minor": 2
}
