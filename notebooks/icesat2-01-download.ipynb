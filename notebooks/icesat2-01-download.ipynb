{
 "cells": [
  {
   "cell_type": "code",
   "execution_count": null,
   "metadata": {},
   "outputs": [],
   "source": [
    "# !conda install python-snappy"
   ]
  },
  {
   "cell_type": "code",
   "execution_count": 9,
   "metadata": {},
   "outputs": [],
   "source": [
    "%matplotlib inline\n",
    "# %matplotlib qt # interactive\n",
    "\n",
    "import json\n",
    "\n",
    "import requests\n",
    "import matplotlib.pyplot as plt\n",
    "import pandas as pd\n",
    "import numpy as np\n",
    "import folium\n",
    "import geopandas as gpd\n",
    "from shapely.geometry import box, Polygon\n",
    "from pyproj import CRS\n",
    "from tqdm.notebook import tqdm\n",
    "from tqdm import trange"
   ]
  },
  {
   "cell_type": "code",
   "execution_count": 10,
   "metadata": {},
   "outputs": [],
   "source": [
    "# remove folium warning\n",
    "import warnings; warnings.filterwarnings('ignore', 'GeoSeries.notna', UserWarning)"
   ]
  },
  {
   "cell_type": "code",
   "execution_count": 3,
   "metadata": {
    "scrolled": true
   },
   "outputs": [],
   "source": [
    "dates = requests.get('https://openaltimetry.org/data/icesat2/getTrackDate').json()\n",
    "tracks = gpd.read_file(r\"../data/icesat-2/icesat2_tracks.shp\")\n",
    "\n",
    "# NL\n",
    "# extents = [5.35,53.4,6.2,53.5] \n",
    "# zoom = 10\n",
    "\n",
    "# DK\n",
    "extents = [8.27, 55.03, 8.75, 55.49]\n",
    "zoom = 8\n",
    "\n",
    "polygon_geom = Polygon(zip([extents[0],extents[2],extents[2],extents[0]], [extents[1],extents[1],extents[3],extents[3]]))\n",
    "polygon = gpd.GeoDataFrame(index=[0], crs=CRS('EPSG:3857'), geometry=[polygon_geom])       \n",
    "\n",
    "# Clip data\n",
    "tracks_clip = gpd.clip(tracks, polygon)\n",
    "track_ids = tracks_clip.TrackId.values"
   ]
  },
  {
   "cell_type": "code",
   "execution_count": 4,
   "metadata": {},
   "outputs": [],
   "source": [
    "center = [polygon_geom.centroid.xy[1][0], polygon_geom.centroid.xy[0][0]]"
   ]
  },
  {
   "cell_type": "code",
   "execution_count": 5,
   "metadata": {},
   "outputs": [
    {
     "data": {
      "text/html": [
       "<div style=\"width:100%;\"><div style=\"position:relative;width:100%;height:0;padding-bottom:60%;\"><iframe src=\"data:text/html;charset=utf-8;base64,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\" style=\"position:absolute;width:100%;height:100%;left:0;top:0;border:none !important;\" allowfullscreen webkitallowfullscreen mozallowfullscreen></iframe></div></div>"
      ],
      "text/plain": [
       "<folium.folium.Map at 0x16ff2311c48>"
      ]
     },
     "execution_count": 5,
     "metadata": {},
     "output_type": "execute_result"
    }
   ],
   "source": [
    "m = folium.Map(center, zoom_start=zoom)\n",
    "folium.GeoJson(polygon_geom).add_to(m)\n",
    "folium.GeoJson(tracks_clip).add_to(m)\n",
    "folium.LatLngPopup().add_to(m)\n",
    "m\n"
   ]
  },
  {
   "cell_type": "code",
   "execution_count": 6,
   "metadata": {},
   "outputs": [
    {
     "data": {
      "text/plain": [
       "array(['69', '511', '671', '1113'], dtype=object)"
      ]
     },
     "execution_count": 6,
     "metadata": {},
     "output_type": "execute_result"
    }
   ],
   "source": [
    "track_ids"
   ]
  },
  {
   "cell_type": "code",
   "execution_count": 7,
   "metadata": {},
   "outputs": [],
   "source": [
    "# track_id, track_date\n",
    "overpasses = []\n",
    "for track_id in track_ids:\n",
    "    for track_date in dates['track_{}'.format(track_id)].split(','):\n",
    "        overpasses.append([track_id, track_date])"
   ]
  },
  {
   "cell_type": "code",
   "execution_count": 8,
   "metadata": {
    "scrolled": true
   },
   "outputs": [
    {
     "data": {
      "application/vnd.jupyter.widget-view+json": {
       "model_id": "7ea59ed34d2b4e3ba1e3259b0e98b629",
       "version_major": 2,
       "version_minor": 0
      },
      "text/plain": [
       "HBox(children=(FloatProgress(value=0.0, layout=Layout(flex='2'), max=25.0), HTML(value='')), layout=Layout(dis…"
      ]
     },
     "metadata": {},
     "output_type": "display_data"
    },
    {
     "name": "stdout",
     "output_type": "stream",
     "text": [
      "\n"
     ]
    }
   ],
   "source": [
    "rows = []\n",
    "\n",
    "# download data for all track_id, track_date combinations\n",
    "with tqdm(overpasses, ncols='100%') as t:\n",
    "    log = lambda s: t.set_description(s); t.refresh()\n",
    "    \n",
    "    for track_id, track_date in t:\n",
    "        log(f'Downloading data for track: {track_id}, date: {track_date}')\n",
    "\n",
    "        # Paste the OpenAltimetry API URL for Photon here: \n",
    "        OA_API_URL = 'https://openaltimetry.org/data/api/icesat2/atl03?' \\\n",
    "            '&minx={}&miny={}&maxx={}&maxy={}&date={}&trackId={}' \\\n",
    "            '&beamName=gt3r&beamName=gt3l&beamName=gt2r&beamName=gt2l&beamName=gt1r&beamName=gt1l' \\\n",
    "            .format(extents[0], extents[1], extents[2], extents[3], track_date, track_id)\n",
    "\n",
    "        # This function will request the 6 beams data using OpenAltimetry's API\n",
    "        r = requests.get(OA_API_URL + '&client=jupyter')\n",
    "        photon_data = r.json()\n",
    "\n",
    "        # iterate over 6 beams\n",
    "        for beam in photon_data:\n",
    "            # every beam has data series with different confidences:\n",
    "            #\n",
    "            # {'beam_name': 'gt3r',\n",
    "            #  'total_photon_count': 43383,\n",
    "            #  'select_photon_count': 43383,\n",
    "            #  'percentage': 100.0,\n",
    "            #  'series': [{'name': 'Noise',\n",
    "            #    'photon_count': 580,\n",
    "            #    'data': [[55.48735236638138, 8.49802945875813, 37.546936],\n",
    "            #     [55.48734604692815, 8.498028327844818, 42.50964],            \n",
    "            beam_name = beam['beam_name']\n",
    "            for s in beam['series']:\n",
    "                # every series has name (confidence)\n",
    "                series_name = s['name']\n",
    "                \n",
    "                for o in s['data']:\n",
    "                    # add rows\n",
    "                    row = {\n",
    "                        'track_id': track_id,\n",
    "                        'date': track_date,\n",
    "                        'beam': beam_name,\n",
    "                        'series': series_name,\n",
    "                        'x': round(o[0], 6),\n",
    "                        'y': round(o[1], 6),\n",
    "                        'h': o[2],\n",
    "                    }\n",
    "            \n",
    "                    rows.append(row)\n"
   ]
  },
  {
   "cell_type": "code",
   "execution_count": 11,
   "metadata": {},
   "outputs": [],
   "source": [
    "df = pd.DataFrame(rows)"
   ]
  },
  {
   "cell_type": "code",
   "execution_count": 13,
   "metadata": {},
   "outputs": [
    {
     "data": {
      "text/html": [
       "<div>\n",
       "<style scoped>\n",
       "    .dataframe tbody tr th:only-of-type {\n",
       "        vertical-align: middle;\n",
       "    }\n",
       "\n",
       "    .dataframe tbody tr th {\n",
       "        vertical-align: top;\n",
       "    }\n",
       "\n",
       "    .dataframe thead th {\n",
       "        text-align: right;\n",
       "    }\n",
       "</style>\n",
       "<table border=\"1\" class=\"dataframe\">\n",
       "  <thead>\n",
       "    <tr style=\"text-align: right;\">\n",
       "      <th></th>\n",
       "      <th>track_id</th>\n",
       "      <th>date</th>\n",
       "      <th>beam</th>\n",
       "      <th>series</th>\n",
       "      <th>x</th>\n",
       "      <th>y</th>\n",
       "      <th>h</th>\n",
       "    </tr>\n",
       "  </thead>\n",
       "  <tbody>\n",
       "    <tr>\n",
       "      <th>0</th>\n",
       "      <td>69</td>\n",
       "      <td>2019-01-01</td>\n",
       "      <td>gt3r</td>\n",
       "      <td>Noise</td>\n",
       "      <td>55.487352</td>\n",
       "      <td>8.498029</td>\n",
       "      <td>37.546936</td>\n",
       "    </tr>\n",
       "    <tr>\n",
       "      <th>1</th>\n",
       "      <td>69</td>\n",
       "      <td>2019-01-01</td>\n",
       "      <td>gt3r</td>\n",
       "      <td>Noise</td>\n",
       "      <td>55.487346</td>\n",
       "      <td>8.498028</td>\n",
       "      <td>42.509640</td>\n",
       "    </tr>\n",
       "    <tr>\n",
       "      <th>2</th>\n",
       "      <td>69</td>\n",
       "      <td>2019-01-01</td>\n",
       "      <td>gt3r</td>\n",
       "      <td>Noise</td>\n",
       "      <td>55.486350</td>\n",
       "      <td>8.497851</td>\n",
       "      <td>38.275400</td>\n",
       "    </tr>\n",
       "    <tr>\n",
       "      <th>3</th>\n",
       "      <td>69</td>\n",
       "      <td>2019-01-01</td>\n",
       "      <td>gt3r</td>\n",
       "      <td>Noise</td>\n",
       "      <td>55.484612</td>\n",
       "      <td>8.497551</td>\n",
       "      <td>36.516910</td>\n",
       "    </tr>\n",
       "    <tr>\n",
       "      <th>4</th>\n",
       "      <td>69</td>\n",
       "      <td>2019-01-01</td>\n",
       "      <td>gt3r</td>\n",
       "      <td>Noise</td>\n",
       "      <td>55.484600</td>\n",
       "      <td>8.497549</td>\n",
       "      <td>34.566850</td>\n",
       "    </tr>\n",
       "    <tr>\n",
       "      <th>...</th>\n",
       "      <td>...</td>\n",
       "      <td>...</td>\n",
       "      <td>...</td>\n",
       "      <td>...</td>\n",
       "      <td>...</td>\n",
       "      <td>...</td>\n",
       "      <td>...</td>\n",
       "    </tr>\n",
       "    <tr>\n",
       "      <th>3521142</th>\n",
       "      <td>1113</td>\n",
       "      <td>2020-03-08</td>\n",
       "      <td>gt1l</td>\n",
       "      <td>Low</td>\n",
       "      <td>55.064141</td>\n",
       "      <td>8.742853</td>\n",
       "      <td>-131.968610</td>\n",
       "    </tr>\n",
       "    <tr>\n",
       "      <th>3521143</th>\n",
       "      <td>1113</td>\n",
       "      <td>2020-03-08</td>\n",
       "      <td>gt1l</td>\n",
       "      <td>Low</td>\n",
       "      <td>55.064154</td>\n",
       "      <td>8.742850</td>\n",
       "      <td>-113.483025</td>\n",
       "    </tr>\n",
       "    <tr>\n",
       "      <th>3521144</th>\n",
       "      <td>1113</td>\n",
       "      <td>2020-03-08</td>\n",
       "      <td>gt1l</td>\n",
       "      <td>Low</td>\n",
       "      <td>55.064274</td>\n",
       "      <td>8.742829</td>\n",
       "      <td>-97.342995</td>\n",
       "    </tr>\n",
       "    <tr>\n",
       "      <th>3521145</th>\n",
       "      <td>1113</td>\n",
       "      <td>2020-03-08</td>\n",
       "      <td>gt1l</td>\n",
       "      <td>Low</td>\n",
       "      <td>55.082603</td>\n",
       "      <td>8.739666</td>\n",
       "      <td>-210.312240</td>\n",
       "    </tr>\n",
       "    <tr>\n",
       "      <th>3521146</th>\n",
       "      <td>1113</td>\n",
       "      <td>2020-03-08</td>\n",
       "      <td>gt1l</td>\n",
       "      <td>Low</td>\n",
       "      <td>55.357110</td>\n",
       "      <td>8.691855</td>\n",
       "      <td>122.387344</td>\n",
       "    </tr>\n",
       "  </tbody>\n",
       "</table>\n",
       "<p>3521147 rows × 7 columns</p>\n",
       "</div>"
      ],
      "text/plain": [
       "        track_id        date  beam series          x         y           h\n",
       "0             69  2019-01-01  gt3r  Noise  55.487352  8.498029   37.546936\n",
       "1             69  2019-01-01  gt3r  Noise  55.487346  8.498028   42.509640\n",
       "2             69  2019-01-01  gt3r  Noise  55.486350  8.497851   38.275400\n",
       "3             69  2019-01-01  gt3r  Noise  55.484612  8.497551   36.516910\n",
       "4             69  2019-01-01  gt3r  Noise  55.484600  8.497549   34.566850\n",
       "...          ...         ...   ...    ...        ...       ...         ...\n",
       "3521142     1113  2020-03-08  gt1l    Low  55.064141  8.742853 -131.968610\n",
       "3521143     1113  2020-03-08  gt1l    Low  55.064154  8.742850 -113.483025\n",
       "3521144     1113  2020-03-08  gt1l    Low  55.064274  8.742829  -97.342995\n",
       "3521145     1113  2020-03-08  gt1l    Low  55.082603  8.739666 -210.312240\n",
       "3521146     1113  2020-03-08  gt1l    Low  55.357110  8.691855  122.387344\n",
       "\n",
       "[3521147 rows x 7 columns]"
      ]
     },
     "execution_count": 13,
     "metadata": {},
     "output_type": "execute_result"
    }
   ],
   "source": [
    "df"
   ]
  },
  {
   "cell_type": "code",
   "execution_count": 14,
   "metadata": {},
   "outputs": [
    {
     "data": {
      "text/plain": [
       "<matplotlib.axes._subplots.AxesSubplot at 0x16f958300c8>"
      ]
     },
     "execution_count": 14,
     "metadata": {},
     "output_type": "execute_result"
    },
    {
     "data": {
      "image/png": "[encoded data removed]",
      "text/plain": [
       "<Figure size 432x288 with 1 Axes>"
      ]
     },
     "metadata": {
      "needs_background": "light"
     },
     "output_type": "display_data"
    }
   ],
   "source": [
    "df.h.hist(bins=100)"
   ]
  },
  {
   "cell_type": "code",
   "execution_count": 11,
   "metadata": {},
   "outputs": [],
   "source": [
    "# df.to_parquet('../data/out/icesat-2-DK.parquet')\n",
    "df = pd.read_parquet('../data/out/icesat-2-DK.parquet')"
   ]
  },
  {
   "cell_type": "code",
   "execution_count": 12,
   "metadata": {},
   "outputs": [
    {
     "data": {
      "text/plain": [
       "Index(['Unnamed: 0', 'track_id', 'date', 'beam', 'series', 'x', 'y', 'h'], dtype='object')"
      ]
     },
     "execution_count": 12,
     "metadata": {},
     "output_type": "execute_result"
    }
   ],
   "source": [
    "df.columns"
   ]
  },
  {
   "cell_type": "code",
   "execution_count": 40,
   "metadata": {},
   "outputs": [
    {
     "data": {
      "text/plain": [
       "array(['Noise', 'Buffer', 'Low', 'Medium', 'High'], dtype=object)"
      ]
     },
     "execution_count": 40,
     "metadata": {},
     "output_type": "execute_result"
    }
   ],
   "source": [
    "df.series.unique()"
   ]
  },
  {
   "cell_type": "code",
   "execution_count": 41,
   "metadata": {},
   "outputs": [
    {
     "data": {
      "text/plain": [
       "array(['gt3r', 'gt3l', 'gt2r', 'gt2l', 'gt1r', 'gt1l'], dtype=object)"
      ]
     },
     "execution_count": 41,
     "metadata": {},
     "output_type": "execute_result"
    }
   ],
   "source": [
    "df.beam.unique()"
   ]
  },
  {
   "cell_type": "code",
   "execution_count": 35,
   "metadata": {},
   "outputs": [
    {
     "data": {
      "text/plain": [
       "array([  69,  511,  671, 1113], dtype=int64)"
      ]
     },
     "execution_count": 35,
     "metadata": {},
     "output_type": "execute_result"
    }
   ],
   "source": [
    "df.track_id.unique()"
   ]
  },
  {
   "cell_type": "code",
   "execution_count": 37,
   "metadata": {},
   "outputs": [
    {
     "data": {
      "text/plain": [
       "[[671,\n",
       "  array(['2018-11-11', '2019-02-10', '2019-05-12', '2019-08-11',\n",
       "         '2019-11-09', '2020-02-08'], dtype=object)],\n",
       " [1113,\n",
       "  array(['2018-12-10', '2019-03-11', '2019-06-10', '2019-09-08',\n",
       "         '2019-12-08', '2020-03-08'], dtype=object)],\n",
       " [69,\n",
       "  array(['2019-01-01', '2019-04-02', '2019-10-01', '2019-12-31',\n",
       "         '2020-03-31'], dtype=object)],\n",
       " [511,\n",
       "  array(['2018-11-01', '2019-01-30', '2019-05-01', '2019-07-31',\n",
       "         '2020-01-29'], dtype=object)]]"
      ]
     },
     "execution_count": 37,
     "metadata": {},
     "output_type": "execute_result"
    }
   ],
   "source": [
    "[ [track_id, df[df.track_id == track_id].date.unique()] for track_id in track_ids]"
   ]
  },
  {
   "cell_type": "code",
   "execution_count": 13,
   "metadata": {},
   "outputs": [
    {
     "data": {
      "image/png": "[encoded data removed]",
      "text/plain": [
       "<Figure size 1440x360 with 2 Axes>"
      ]
     },
     "metadata": {
      "needs_background": "light"
     },
     "output_type": "display_data"
    }
   ],
   "source": [
    "fig, ax = plt.subplots(1, 2, figsize=(20, 5))\n",
    "\n",
    "data = df[(df.track_id == 1113) & (df.date == '2019-09-08') & (df.series != 'Noise')]\n",
    "\n",
    "ax[0].plot(data.h, '.', markersize=0.5, alpha=0.1)\n",
    "ax[1].plot(data.x, data.y, '.', markersize=0.1, alpha=0.2)\n",
    "plt.show()\n"
   ]
  },
  {
   "cell_type": "code",
   "execution_count": null,
   "metadata": {},
   "outputs": [],
   "source": []
  }
 ],
 "metadata": {
  "kernelspec": {
   "display_name": "Python 3.7.6 64-bit ('work': conda)",
   "language": "python",
   "name": "python37664bitworkconda29122c767d534363a90db6310bbb639d"
  },
  "language_info": {
   "codemirror_mode": {
    "name": "ipython",
    "version": 3
   },
   "file_extension": ".py",
   "mimetype": "text/x-python",
   "name": "python",
   "nbconvert_exporter": "python",
   "pygments_lexer": "ipython3",
   "version": "3.7.6"
  }
 },
 "nbformat": 4,
 "nbformat_minor": 4
}
