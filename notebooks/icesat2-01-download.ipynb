{
 "cells": [
  {
   "cell_type": "code",
   "execution_count": null,
   "metadata": {},
   "outputs": [],
   "source": [
    "# !conda install python-snappy"
   ]
  },
  {
   "cell_type": "code",
   "execution_count": 1,
   "metadata": {},
   "outputs": [],
   "source": [
    "# %matplotlib widget\n",
    "# %matplotlib inline\n",
    "%matplotlib qt \n",
    "\n",
    "import json\n",
    "\n",
    "import requests\n",
    "import matplotlib.pyplot as plt\n",
    "import pandas as pd\n",
    "import numpy as np\n",
    "import folium\n",
    "import geopandas as gpd\n",
    "from shapely.geometry import box, Polygon\n",
    "from pyproj import CRS\n",
    "from tqdm.notebook import tqdm\n",
    "from tqdm import trange"
   ]
  },
  {
   "cell_type": "code",
   "execution_count": 2,
   "metadata": {},
   "outputs": [],
   "source": [
    "# remove folium warning\n",
    "import warnings; warnings.filterwarnings('ignore', 'GeoSeries.notna', UserWarning)"
   ]
  },
  {
   "cell_type": "code",
   "execution_count": 38,
   "metadata": {
    "scrolled": true
   },
   "outputs": [],
   "source": [
    "dates = requests.get('https://openaltimetry.org/data/icesat2/getTrackDate').json()\n",
    "tracks = gpd.read_file(r\"../data/icesat-2/icesat2_tracks.shp\")\n",
    "\n",
    "# NL\n",
    "# extents = [5.35,53.4,6.2,53.5] \n",
    "# zoom = 10\n",
    "\n",
    "# DK\n",
    "extents = [8.0557, 54.8955, 8.7615, 55.5938]\n",
    "zoom = 8\n",
    "\n",
    "polygon_geom = Polygon(zip([extents[0],extents[2],extents[2],extents[0]], [extents[1],extents[1],extents[3],extents[3]]))\n",
    "polygon = gpd.GeoDataFrame(index=[0], crs=CRS('EPSG:3857'), geometry=[polygon_geom])       \n",
    "\n",
    "# Clip data\n",
    "tracks_clip = gpd.clip(tracks, polygon)\n",
    "track_ids = tracks_clip.TrackId.values"
   ]
  },
  {
   "cell_type": "code",
   "execution_count": 5,
   "metadata": {},
   "outputs": [],
   "source": [
    "center = [polygon_geom.centroid.xy[1][0], polygon_geom.centroid.xy[0][0]]"
   ]
  },
  {
   "cell_type": "code",
   "execution_count": 6,
   "metadata": {},
   "outputs": [
    {
     "data": {
      "text/html": [
       "<div style=\"width:100%;\"><div style=\"position:relative;width:100%;height:0;padding-bottom:60%;\"><iframe src=\"data:text/html;charset=utf-8;base64,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\" style=\"position:absolute;width:100%;height:100%;left:0;top:0;border:none !important;\" allowfullscreen webkitallowfullscreen mozallowfullscreen></iframe></div></div>"
      ],
      "text/plain": [
       "<folium.folium.Map at 0x1a692dc7488>"
      ]
     },
     "execution_count": 6,
     "metadata": {},
     "output_type": "execute_result"
    }
   ],
   "source": [
    "m = folium.Map(center, zoom_start=zoom)\n",
    "folium.GeoJson(polygon_geom).add_to(m)\n",
    "folium.GeoJson(tracks_clip).add_to(m)\n",
    "folium.LatLngPopup().add_to(m)\n",
    "m\n"
   ]
  },
  {
   "cell_type": "code",
   "execution_count": 7,
   "metadata": {},
   "outputs": [
    {
     "data": {
      "text/plain": [
       "array(['69', '229', '511', '671', '1014', '1113'], dtype=object)"
      ]
     },
     "execution_count": 7,
     "metadata": {},
     "output_type": "execute_result"
    }
   ],
   "source": [
    "track_ids"
   ]
  },
  {
   "cell_type": "code",
   "execution_count": 9,
   "metadata": {},
   "outputs": [],
   "source": [
    "# track_id, track_date\n",
    "overpasses = []\n",
    "for track_id in track_ids:\n",
    "    for track_date in dates['track_{}'.format(track_id)].split(','):\n",
    "        overpasses.append([track_id, track_date])"
   ]
  },
  {
   "cell_type": "code",
   "execution_count": 11,
   "metadata": {
    "scrolled": true
   },
   "outputs": [
    {
     "data": {
      "application/vnd.jupyter.widget-view+json": {
       "model_id": "648df758128a4e19aab4d3920692c2de",
       "version_major": 2,
       "version_minor": 0
      },
      "text/plain": [
       "HBox(children=(FloatProgress(value=0.0, layout=Layout(flex='2'), max=35.0), HTML(value='')), layout=Layout(dis…"
      ]
     },
     "metadata": {},
     "output_type": "display_data"
    },
    {
     "name": "stdout",
     "output_type": "stream",
     "text": [
      "\n"
     ]
    }
   ],
   "source": [
    "rows = []\n",
    "\n",
    "# download data for all track_id, track_date combinations\n",
    "with tqdm(overpasses, ncols='100%') as t:\n",
    "    log = lambda s: t.set_description(s); t.refresh()\n",
    "    \n",
    "    for track_id, track_date in t:\n",
    "        log(f'Downloading data for track: {track_id}, date: {track_date}')\n",
    "\n",
    "        # Paste the OpenAltimetry API URL for Photon here: \n",
    "        OA_API_URL = 'https://openaltimetry.org/data/api/icesat2/atl03?' \\\n",
    "            '&minx={}&miny={}&maxx={}&maxy={}&date={}&trackId={}' \\\n",
    "            '&beamName=gt3r&beamName=gt3l&beamName=gt2r&beamName=gt2l&beamName=gt1r&beamName=gt1l' \\\n",
    "            .format(extents[0], extents[1], extents[2], extents[3], track_date, track_id)\n",
    "\n",
    "        # This function will request the 6 beams data using OpenAltimetry's API\n",
    "        r = requests.get(OA_API_URL + '&client=jupyter')\n",
    "        photon_data = r.json()\n",
    "\n",
    "        # iterate over 6 beams\n",
    "        for beam in photon_data:\n",
    "            # every beam has data series with different confidences:\n",
    "            #\n",
    "            # {'beam_name': 'gt3r',\n",
    "            #  'total_photon_count': 43383,\n",
    "            #  'select_photon_count': 43383,\n",
    "            #  'percentage': 100.0,\n",
    "            #  'series': [{'name': 'Noise',\n",
    "            #    'photon_count': 580,\n",
    "            #    'data': [[55.48735236638138, 8.49802945875813, 37.546936],\n",
    "            #     [55.48734604692815, 8.498028327844818, 42.50964],            \n",
    "            beam_name = beam['beam_name']\n",
    "            for s in beam['series']:\n",
    "                # every series has name (confidence)\n",
    "                series_name = s['name']\n",
    "                \n",
    "                for o in s['data']:\n",
    "                    # add rows\n",
    "                    row = {\n",
    "                        'track_id': track_id,\n",
    "                        'date': track_date,\n",
    "                        'beam': beam_name,\n",
    "                        'series': series_name,\n",
    "                        'lon': round(o[0], 6),\n",
    "                        'lat': round(o[1], 6),\n",
    "                        'h': o[2],\n",
    "                    }\n",
    "            \n",
    "                    rows.append(row)\n"
   ]
  },
  {
   "cell_type": "code",
   "execution_count": 12,
   "metadata": {},
   "outputs": [],
   "source": [
    "df = pd.DataFrame(rows)"
   ]
  },
  {
   "cell_type": "code",
   "execution_count": 13,
   "metadata": {},
   "outputs": [
    {
     "data": {
      "text/html": [
       "<div>\n",
       "<style scoped>\n",
       "    .dataframe tbody tr th:only-of-type {\n",
       "        vertical-align: middle;\n",
       "    }\n",
       "\n",
       "    .dataframe tbody tr th {\n",
       "        vertical-align: top;\n",
       "    }\n",
       "\n",
       "    .dataframe thead th {\n",
       "        text-align: right;\n",
       "    }\n",
       "</style>\n",
       "<table border=\"1\" class=\"dataframe\">\n",
       "  <thead>\n",
       "    <tr style=\"text-align: right;\">\n",
       "      <th></th>\n",
       "      <th>track_id</th>\n",
       "      <th>date</th>\n",
       "      <th>beam</th>\n",
       "      <th>series</th>\n",
       "      <th>x</th>\n",
       "      <th>y</th>\n",
       "      <th>h</th>\n",
       "    </tr>\n",
       "  </thead>\n",
       "  <tbody>\n",
       "    <tr>\n",
       "      <th>0</th>\n",
       "      <td>69</td>\n",
       "      <td>2019-01-01</td>\n",
       "      <td>gt3r</td>\n",
       "      <td>Noise</td>\n",
       "      <td>55.589424</td>\n",
       "      <td>8.515854</td>\n",
       "      <td>45.353355</td>\n",
       "    </tr>\n",
       "    <tr>\n",
       "      <th>1</th>\n",
       "      <td>69</td>\n",
       "      <td>2019-01-01</td>\n",
       "      <td>gt3r</td>\n",
       "      <td>Noise</td>\n",
       "      <td>55.588817</td>\n",
       "      <td>8.515745</td>\n",
       "      <td>106.844666</td>\n",
       "    </tr>\n",
       "    <tr>\n",
       "      <th>2</th>\n",
       "      <td>69</td>\n",
       "      <td>2019-01-01</td>\n",
       "      <td>gt3r</td>\n",
       "      <td>Noise</td>\n",
       "      <td>55.586167</td>\n",
       "      <td>8.515275</td>\n",
       "      <td>26.828594</td>\n",
       "    </tr>\n",
       "    <tr>\n",
       "      <th>3</th>\n",
       "      <td>69</td>\n",
       "      <td>2019-01-01</td>\n",
       "      <td>gt3r</td>\n",
       "      <td>Noise</td>\n",
       "      <td>55.586059</td>\n",
       "      <td>8.515256</td>\n",
       "      <td>32.035164</td>\n",
       "    </tr>\n",
       "    <tr>\n",
       "      <th>4</th>\n",
       "      <td>69</td>\n",
       "      <td>2019-01-01</td>\n",
       "      <td>gt3r</td>\n",
       "      <td>Noise</td>\n",
       "      <td>55.586015</td>\n",
       "      <td>8.515249</td>\n",
       "      <td>24.463839</td>\n",
       "    </tr>\n",
       "    <tr>\n",
       "      <th>...</th>\n",
       "      <td>...</td>\n",
       "      <td>...</td>\n",
       "      <td>...</td>\n",
       "      <td>...</td>\n",
       "      <td>...</td>\n",
       "      <td>...</td>\n",
       "      <td>...</td>\n",
       "    </tr>\n",
       "    <tr>\n",
       "      <th>5583283</th>\n",
       "      <td>1113</td>\n",
       "      <td>2020-03-08</td>\n",
       "      <td>gt1l</td>\n",
       "      <td>Low</td>\n",
       "      <td>55.545941</td>\n",
       "      <td>8.658705</td>\n",
       "      <td>330.743000</td>\n",
       "    </tr>\n",
       "    <tr>\n",
       "      <th>5583284</th>\n",
       "      <td>1113</td>\n",
       "      <td>2020-03-08</td>\n",
       "      <td>gt1l</td>\n",
       "      <td>Low</td>\n",
       "      <td>55.546439</td>\n",
       "      <td>8.658633</td>\n",
       "      <td>-213.183560</td>\n",
       "    </tr>\n",
       "    <tr>\n",
       "      <th>5583285</th>\n",
       "      <td>1113</td>\n",
       "      <td>2020-03-08</td>\n",
       "      <td>gt1l</td>\n",
       "      <td>Low</td>\n",
       "      <td>55.546509</td>\n",
       "      <td>8.658621</td>\n",
       "      <td>-210.123960</td>\n",
       "    </tr>\n",
       "    <tr>\n",
       "      <th>5583286</th>\n",
       "      <td>1113</td>\n",
       "      <td>2020-03-08</td>\n",
       "      <td>gt1l</td>\n",
       "      <td>Low</td>\n",
       "      <td>55.546560</td>\n",
       "      <td>8.658612</td>\n",
       "      <td>-209.074980</td>\n",
       "    </tr>\n",
       "    <tr>\n",
       "      <th>5583287</th>\n",
       "      <td>1113</td>\n",
       "      <td>2020-03-08</td>\n",
       "      <td>gt1l</td>\n",
       "      <td>Low</td>\n",
       "      <td>55.560946</td>\n",
       "      <td>8.656070</td>\n",
       "      <td>86.650360</td>\n",
       "    </tr>\n",
       "  </tbody>\n",
       "</table>\n",
       "<p>5583288 rows × 7 columns</p>\n",
       "</div>"
      ],
      "text/plain": [
       "        track_id        date  beam series          x         y           h\n",
       "0             69  2019-01-01  gt3r  Noise  55.589424  8.515854   45.353355\n",
       "1             69  2019-01-01  gt3r  Noise  55.588817  8.515745  106.844666\n",
       "2             69  2019-01-01  gt3r  Noise  55.586167  8.515275   26.828594\n",
       "3             69  2019-01-01  gt3r  Noise  55.586059  8.515256   32.035164\n",
       "4             69  2019-01-01  gt3r  Noise  55.586015  8.515249   24.463839\n",
       "...          ...         ...   ...    ...        ...       ...         ...\n",
       "5583283     1113  2020-03-08  gt1l    Low  55.545941  8.658705  330.743000\n",
       "5583284     1113  2020-03-08  gt1l    Low  55.546439  8.658633 -213.183560\n",
       "5583285     1113  2020-03-08  gt1l    Low  55.546509  8.658621 -210.123960\n",
       "5583286     1113  2020-03-08  gt1l    Low  55.546560  8.658612 -209.074980\n",
       "5583287     1113  2020-03-08  gt1l    Low  55.560946  8.656070   86.650360\n",
       "\n",
       "[5583288 rows x 7 columns]"
      ]
     },
     "execution_count": 13,
     "metadata": {},
     "output_type": "execute_result"
    }
   ],
   "source": [
    "df"
   ]
  },
  {
   "cell_type": "code",
   "execution_count": 14,
   "metadata": {},
   "outputs": [
    {
     "data": {
      "text/plain": [
       "Index            128\n",
       "track_id    44666304\n",
       "date        44666304\n",
       "beam        44666304\n",
       "series      44666304\n",
       "x           44666304\n",
       "y           44666304\n",
       "h           44666304\n",
       "dtype: int64"
      ]
     },
     "execution_count": 14,
     "metadata": {},
     "output_type": "execute_result"
    }
   ],
   "source": [
    "df.memory_usage()"
   ]
  },
  {
   "cell_type": "code",
   "execution_count": 15,
   "metadata": {},
   "outputs": [
    {
     "data": {
      "text/plain": [
       "<matplotlib.axes._subplots.AxesSubplot at 0x1a736cfd5c8>"
      ]
     },
     "execution_count": 15,
     "metadata": {},
     "output_type": "execute_result"
    },
    {
     "data": {
      "image/png": "[encoded data removed]",
      "text/plain": [
       "<Figure size 432x288 with 1 Axes>"
      ]
     },
     "metadata": {
      "needs_background": "light"
     },
     "output_type": "display_data"
    }
   ],
   "source": [
    "df.h.hist(bins=100)"
   ]
  },
  {
   "cell_type": "code",
   "execution_count": 6,
   "metadata": {},
   "outputs": [],
   "source": [
    "# df.to_parquet('../data/out/icesat-2-DK.parquet')\n",
    "df = pd.read_parquet('../data/out/icesat-2-DK.parquet')"
   ]
  },
  {
   "cell_type": "code",
   "execution_count": 35,
   "metadata": {},
   "outputs": [
    {
     "data": {
      "text/plain": [
       "Index(['track_id', 'date', 'beam', 'series', 'x', 'y', 'h'], dtype='object')"
      ]
     },
     "execution_count": 35,
     "metadata": {},
     "output_type": "execute_result"
    }
   ],
   "source": [
    "df.columns"
   ]
  },
  {
   "cell_type": "code",
   "execution_count": 18,
   "metadata": {},
   "outputs": [
    {
     "data": {
      "text/plain": [
       "array(['Noise', 'Buffer', 'Low', 'Medium', 'High'], dtype=object)"
      ]
     },
     "execution_count": 18,
     "metadata": {},
     "output_type": "execute_result"
    }
   ],
   "source": [
    "df.series.unique()"
   ]
  },
  {
   "cell_type": "code",
   "execution_count": 19,
   "metadata": {},
   "outputs": [
    {
     "data": {
      "text/plain": [
       "array(['gt3r', 'gt3l', 'gt2r', 'gt2l', 'gt1r', 'gt1l'], dtype=object)"
      ]
     },
     "execution_count": 19,
     "metadata": {},
     "output_type": "execute_result"
    }
   ],
   "source": [
    "df.beam.unique()"
   ]
  },
  {
   "cell_type": "code",
   "execution_count": 9,
   "metadata": {},
   "outputs": [
    {
     "data": {
      "text/plain": [
       "array(['69', '229', '511', '671', '1014', '1113'], dtype=object)"
      ]
     },
     "execution_count": 9,
     "metadata": {},
     "output_type": "execute_result"
    }
   ],
   "source": [
    "track_ids = df.track_id.unique()\n",
    "track_ids"
   ]
  },
  {
   "cell_type": "code",
   "execution_count": 40,
   "metadata": {},
   "outputs": [
    {
     "data": {
      "text/plain": [
       "[['69',\n",
       "  array(['2019-01-01', '2019-04-02', '2019-10-01', '2019-12-31',\n",
       "         '2020-03-31'], dtype=object)],\n",
       " ['229',\n",
       "  array(['2019-01-12', '2019-04-13', '2019-10-11', '2020-01-10'],\n",
       "        dtype=object)],\n",
       " ['511',\n",
       "  array(['2018-11-01', '2019-01-30', '2019-05-01', '2019-07-31',\n",
       "         '2019-10-30', '2020-01-29'], dtype=object)],\n",
       " ['671',\n",
       "  array(['2018-11-11', '2019-02-10', '2019-05-12', '2019-08-11',\n",
       "         '2019-11-09', '2020-02-08'], dtype=object)],\n",
       " ['1014',\n",
       "  array(['2018-12-04', '2019-03-04', '2019-06-03', '2019-09-02',\n",
       "         '2019-12-02', '2020-03-02'], dtype=object)],\n",
       " ['1113',\n",
       "  array(['2018-12-10', '2019-03-11', '2019-06-10', '2019-09-08',\n",
       "         '2019-12-08', '2020-03-08'], dtype=object)]]"
      ]
     },
     "execution_count": 40,
     "metadata": {},
     "output_type": "execute_result"
    }
   ],
   "source": [
    "[ [track_id, df[df.track_id == track_id].date.unique()] for track_id in track_ids]"
   ]
  },
  {
   "cell_type": "code",
   "execution_count": 22,
   "metadata": {},
   "outputs": [],
   "source": [
    "# for track_id in track_ids:\n",
    "#     track_df = df[df.track_id == track_id]\n",
    "#     for date in track_df.date.unique():\n",
    "#         track_df2 = track_df[track_df.date == date]\n",
    "#         print(track_id, date, len(track_df2))\n",
    "        "
   ]
  },
  {
   "cell_type": "code",
   "execution_count": 15,
   "metadata": {},
   "outputs": [
    {
     "name": "stdout",
     "output_type": "stream",
     "text": [
      "['gt3r' 'gt3l' 'gt2r' 'gt2l' 'gt1r' 'gt1l']\n"
     ]
    }
   ],
   "source": [
    "print(df.beam.unique())"
   ]
  },
  {
   "cell_type": "code",
   "execution_count": 23,
   "metadata": {},
   "outputs": [],
   "source": [
    "fig, ax = plt.subplots(1, 2, figsize=(20, 5))\n",
    "\n",
    "# (df.series != 'Noise') & (df.series != 'Buffer') & \n",
    "data = df [(df.series != 'Noise') & (df.track_id == '229') & (df.date == '2020-01-10') & (df.beam == 'gt2l')]\n",
    "\n",
    "ax[0].plot(data.h, '.', markersize=5, alpha=0.2)\n",
    "ax[1].plot(df.x, df.y, 'k.', markersize=0.1, alpha=0.2)\n",
    "ax[1].plot(data.x, data.y, 'r.', markersize=0.1, alpha=0.2)\n",
    "plt.show()\n"
   ]
  },
  {
   "cell_type": "code",
   "execution_count": null,
   "metadata": {},
   "outputs": [],
   "source": []
  }
 ],
 "metadata": {
  "kernelspec": {
   "display_name": "Python 3.7.6 64-bit ('work': conda)",
   "language": "python",
   "name": "python37664bitworkconda29122c767d534363a90db6310bbb639d"
  },
  "language_info": {
   "codemirror_mode": {
    "name": "ipython",
    "version": 3
   },
   "file_extension": ".py",
   "mimetype": "text/x-python",
   "name": "python",
   "nbconvert_exporter": "python",
   "pygments_lexer": "ipython3",
   "version": "3.7.6"
  }
 },
 "nbformat": 4,
 "nbformat_minor": 4
}
