{
 "cells": [
  {
   "cell_type": "code",
   "execution_count": 1,
   "metadata": {
    "collapsed": false
   },
   "outputs": [],
   "source": [
    "import os\n",
    "import sys\n",
    "import re\n",
    "import glob\n",
    "import subprocess\n",
    "import time\n",
    "import datetime\n",
    "import pytz\n",
    "import exifread\n",
    "import zipfile\n",
    "import gdal\n",
    "import math\n",
    "import pandas as pd\n",
    "\n",
    "import ee\n",
    "import ee.cli\n",
    "import ee.cli.commands\n",
    "import ee.cli.utils"
   ]
  },
  {
   "cell_type": "code",
   "execution_count": 2,
   "metadata": {
    "collapsed": true
   },
   "outputs": [],
   "source": [
    "def run(cmd):\n",
    "    print(cmd)\n",
    "    subprocess.call(cmd)\n",
    "    \n",
    "def extractAll(zipName):\n",
    "    z = zipfile.PyZipFile(zipName)\n",
    "    for f in z.namelist():\n",
    "        if f.endswith('/'):\n",
    "            os.makedirs(f)\n",
    "        else:\n",
    "            z.extract(f)"
   ]
  },
  {
   "cell_type": "code",
   "execution_count": 3,
   "metadata": {
    "collapsed": true
   },
   "outputs": [],
   "source": [
    "ee.Initialize()\n",
    "ee_config = ee.cli.utils.CommandLineConfig()"
   ]
  },
  {
   "cell_type": "code",
   "execution_count": 4,
   "metadata": {
    "collapsed": false
   },
   "outputs": [
    {
     "name": "stdout",
     "output_type": "stream",
     "text": [
      "['Number of files to upload as assets = 12']\n",
      "['Number of zipped files = 0']\n"
     ]
    }
   ],
   "source": [
    "local = pytz.timezone(\"Europe/Amsterdam\")\n",
    "input_dir = r'P:/11202200.005-kpp-cip2018/data/Satellitedataportaal'\n",
    "os.chdir(input_dir)\n",
    "\n",
    "rapideye = False\n",
    "triplesat = True\n",
    "\n",
    "if rapideye:\n",
    "    files = glob.glob('RapidEye/RE_RD_12bit_RGBEI_5m_jp2000/**/**/*.jp2000', recursive=True)\n",
    "    zippedfiles = glob.glob('RapidEye/RE_RD_12bit_RGBEI_5m_jp2000/**/**/*.zip', recursive=True)\n",
    "    dst = 'RapidEye/RE_RD_12bit_RGBEI_5m_jp2000/'\n",
    "    print(['Number of files to upload as assets = '+str(len(files))])\n",
    "    print(['Number of zipped files = '+str(len(zippedfiles))])\n",
    "elif triplesat:\n",
    "    # TripleSat locations searched: Ameland, Dokkum, Haamstede, Hulst, Schiermonnikoog, Tweede_Maasvlakte, Terschelling, Westkapelle, Yerseke, Zierikzee\n",
    "    files = glob.glob('TripleSat/Tri_RD_12bit_RGBI_80cm/*.tif')\n",
    "    zippedfiles = glob.glob('TripleSat/Tri_RD_12bit_RGBI_80cm/**/**/**/*.zip')#, recursive=True)\n",
    "    dst = 'TripleSat/Tri_RD_12bit_RGBI_80cm/'\n",
    "    print(['Number of files to upload as assets = '+str(len(files))])\n",
    "    print(['Number of zipped files = '+str(len(zippedfiles))])\n",
    "#     print(zippedfiles)\n",
    "else:\n",
    "    print(\"No satellite selected.\")\n",
    "    \n",
    "os.chdir(dst)"
   ]
  },
  {
   "cell_type": "code",
   "execution_count": 5,
   "metadata": {
    "collapsed": false
   },
   "outputs": [
    {
     "name": "stdout",
     "output_type": "stream",
     "text": [
      "['Unzipped .tif file from 20180224_093625_Tri_80cm_RD_12bit_RGBI_Zierikzee.zip']\n"
     ]
    }
   ],
   "source": [
    "# Files must all be in the same file for Google Earth Engine Batch Asset Manager,\n",
    "# but ftp.satellietdataportaal.nl transfer for RapidEye was categorized in monthly/daily folders\n",
    "\n",
    "# Unzip all\n",
    "if rapideye:\n",
    "    for j in zippedfiles:\n",
    "        filename = os.path.basename(j)\n",
    "        filename_no_ext = os.path.splitext(filename)[0]\n",
    "        filename_unzipped = os.path.join(input_dir,dst,filename_no_ext+'.jp2000')\n",
    "        is_unzipped = os.path.lexists(filename_unzipped)\n",
    "        if is_unzipped: \n",
    "            os.remove(os.path.join(input_dir,j))\n",
    "        else:\n",
    "            extractAll(os.path.join(input_dir,j))\n",
    "            print(['Unzipped .jp2000 file from ' + filename])\n",
    "            os.remove(os.path.join(input_dir,j))\n",
    "elif triplesat:\n",
    "    for j in zippedfiles:\n",
    "        filename = os.path.basename(j)\n",
    "        filename_no_ext = os.path.splitext(filename)[0]\n",
    "        filename_unzipped = os.path.join(input_dir,filename_no_ext+'.tif')\n",
    "        is_unzipped = os.path.lexists(filename_unzipped)\n",
    "        if is_unzipped: \n",
    "            os.remove(os.path.join(input_dir,j))\n",
    "        else:\n",
    "            extractAll(os.path.join(input_dir,j))\n",
    "            print(['Unzipped .tif file from ' + filename])\n",
    "            os.remove(os.path.join(input_dir,j))\n",
    "else:\n",
    "    print('No satellite selected')"
   ]
  },
  {
   "cell_type": "code",
   "execution_count": null,
   "metadata": {
    "collapsed": true
   },
   "outputs": [],
   "source": [
    "# delete empty directories\n",
    "if rapideye:\n",
    "    empty_dir = glob.glob('RapidEye/RE_RD_12bit_RGBEI_5m_jp2000/**/**')\n",
    "#     empty_dir = glob.glob('RapidEye/**/**')\n",
    "elif triplesat:\n",
    "    empty_dir = glob.glob('TripleSat/Tri_RD_12bit_RGBI_80cm/**/**/**')\n",
    "else:\n",
    "    print(\"No satellite selected.\")\n",
    "\n",
    "for e in empty_dir:\n",
    "    os.rmdir(os.path.join(input_dir,e))"
   ]
  },
  {
   "cell_type": "code",
   "execution_count": null,
   "metadata": {
    "collapsed": false
   },
   "outputs": [],
   "source": [
    "if rapideye:\n",
    "#     files = glob.glob('*.jp2000')\n",
    "    files = glob.glob('*.jp2')\n",
    "    print(len(files))\n",
    "    for i, f in enumerate(files):\n",
    "        print(str(i)+' of '+str(len(files)))\n",
    "        filename = os.path.splitext(os.path.basename(f))[0]\n",
    "        metafile = filename+'.txt'\n",
    "        #Open existing dataset\n",
    "        ds = gdal.Open(f)\n",
    "        ds = gdal.Translate(filename+'.tif', ds, )\n",
    "        ds = None\n",
    "        \n",
    "        pvl_dict = {}\n",
    "        for line in open(metafile):\n",
    "            line = line.strip() # strip leading and trailing whitespace\n",
    "            if not \"GROUP\" in line: # skip lines containing \"GROUP\"\n",
    "                line = line.replace('\"', '') \n",
    "                vals = str.split(line, ' = ') \n",
    "                if (len(vals) == 1):\n",
    "                    pass\n",
    "                else:\n",
    "                    pvl_dict[vals[0]] = vals[1]\n",
    "        ds = gdal.Open(f)\n",
    "        # Set metadata in datasource\n",
    "        ds.SetMetadata(pvl_dict) \n",
    "        ds = None"
   ]
  },
  {
   "cell_type": "code",
   "execution_count": null,
   "metadata": {
    "collapsed": false
   },
   "outputs": [
    {
     "name": "stdout",
     "output_type": "stream",
     "text": [
      "['Number of files to upload as assets = 12']\n"
     ]
    }
   ],
   "source": [
    "df = pd.DataFrame(columns=['filename','system:time_start'])\n",
    "\n",
    "if rapideye:\n",
    "    files = glob.glob('*.tif')\n",
    "    print(['Number of files to upload as assets = '+str(len(files))])\n",
    "\n",
    "    for i, f in enumerate(files):\n",
    "        filename = os.path.splitext(os.path.basename(f))[0]\n",
    "        metafile = filename+'.txt'\n",
    "        pvl_dict = {}\n",
    "        for line in open(metafile):\n",
    "            line = line.strip() # strip leading and trailing whitespace\n",
    "            if not \"GROUP\" in line: # skip lines containing \"GROUP\"\n",
    "                line = line.replace('\"', '') \n",
    "                vals = str.split(line, ' = ') \n",
    "                if (len(vals) == 1):\n",
    "                    pass\n",
    "                else:\n",
    "                    pvl_dict[vals[0]] = vals[1]\n",
    "        \n",
    "        datestring = pvl_dict['Acquisition Date']\n",
    "        timestring = pvl_dict['Acquisition Time']\n",
    "        t = datetime.datetime.strptime(datestring+timestring, '%Y-%m-%d%H:%M:%S')\n",
    "        time_start = t.replace(tzinfo=datetime.timezone.utc).timestamp()*1000\n",
    "        \n",
    "        df.loc[i] = [filename, time_start]\n",
    "        \n",
    "elif triplesat:\n",
    "    files = glob.glob('*.tif')\n",
    "    print(['Number of files to upload as assets = '+str(len(files))])\n",
    "\n",
    "    for i, f in enumerate(files):\n",
    "        filesize = os.path.getsize(f)\n",
    "        filename_no_ext = os.path.splitext(os.path.basename(f))[0]\n",
    "        dst = 'TripleSat/Tri_RD_12bit_RGBI_80cm_Split/'\n",
    "        \n",
    "        if (filesize > 10e9):\n",
    "            in_path = os.path.join(input_dir,dst,f)\n",
    "            out_path = os.path.join(input_dir,dst,filename_no_ext)\n",
    "            ds = gdal.Open(in_path)\n",
    "            band = ds.GetRasterBand(1)\n",
    "            xsize = band.XSize\n",
    "            ysize = band.YSize\n",
    "\n",
    "            tile_size_x = int(math.ceil(xsize/2))\n",
    "            tile_size_y = int(math.ceil(ysize/2))\n",
    "\n",
    "            for i in range(0, xsize, tile_size_x):\n",
    "                for j in range(0, ysize, tile_size_y):\n",
    "                    com_string = \"gdal_translate -of GTIFF -srcwin \" + str(i)+ \", \" + str(j) + \", \" + str(tile_size_x) + \", \" + str(tile_size_y) + \" \" + str(in_path) + \" \" + str(out_path) + str(i) + \"_\" + str(j) + \".tif\"\n",
    "                    os.system(com_string)\n",
    "                    \n",
    "            ds = None\n",
    "        \n",
    "        datestring = re.findall(r\"\\d{8}_\\d{6}\", filename)[0]        \n",
    "        t = datetime.datetime.strptime(datestring, '%Y%m%d_%H%M%S')\n",
    "        time_start = t.replace(tzinfo=datetime.timezone.utc).timestamp()*1000\n",
    "        \n",
    "        # add filename and time to dataframe\n",
    "        df.loc[i] = [filename, time_start]\n",
    "        \n",
    "else:\n",
    "    print(\"No satellite selected.\")\n",
    "\n",
    "# save dataframe as csv for metadata\n",
    "df.set_index('filename', inplace=True)\n",
    "meta = 'metadata.csv'\n",
    "df.to_csv(meta)\n",
    "df.head(n=5)"
   ]
  },
  {
   "cell_type": "code",
   "execution_count": null,
   "metadata": {
    "collapsed": false
   },
   "outputs": [],
   "source": [
    "# Use Google Earth Engine Batch Asset Manager\n",
    "# Details at https://github.com/tracek/gee_asset_manager\n",
    "\n",
    "user = \"rogersckw9@gmail.com\"\n",
    "\n",
    "# Running the following within notebook doesn't work, need to input password.\n",
    "# Copy and paste the following in command line to run\n",
    "if rapideye:\n",
    "    print(\"geebam upload --source {0} --dest users/rogersckw9/eo-bathymetry/rapideye-rgbrei -m {1} -u {2}\".format(os.path.join(input_dir,dst), os.path.join(input_dir,dst,meta), user))\n",
    "elif triplesat:\n",
    "    print(\"geebam upload --source {0} --dest users/rogersckw9/eo-bathymetry/triplesat-rgbi -m {1} --large -u {2}\".format(os.path.join(input_dir,dst), os.path.join(input_dir,dst,meta), user))\n",
    "else:\n",
    "    print(\"No satellite selected.\")"
   ]
  },
  {
   "cell_type": "code",
   "execution_count": null,
   "metadata": {
    "collapsed": false
   },
   "outputs": [],
   "source": [
    "# If TripleSat images are larger than 10GB (RGBI tend to be) must split images first to upload to GEE.\n",
    "input_dir = r'P:\\11202200.005-kpp-cip2018\\data\\Satellitedataportaal'\n",
    "os.chdir(input_dir)\n",
    "\n",
    "# find all .tif files\n",
    "files = glob.glob('TripleSat\\Tri_RD_8bit_RGBI_80cm\\*.tif')#, recursive=True)\n",
    "print(['Number of files to upload as assets = '+str(len(files))])\n",
    "\n",
    "# find all .tif files\n",
    "files = glob.glob('TripleSat\\Tri_RD_8bit_RGBI_80cm\\*.tif')#, recursive=True)\n",
    "print(['Number of files to upload as assets = '+str(len(files))])\n",
    "\n",
    "for f in files:\n",
    "    filename = os.path.basename(f)\n",
    "    filename_no_ext = os.path.splitext(filename)[0]    \n",
    "    in_path = os.path.join(input_dir,f)\n",
    "    out_path = os.path.join(input_dir,filename_no_ext)\n",
    "    ds = gdal.Open(in_path)\n",
    "    band = ds.GetRasterBand(1)\n",
    "    xsize = band.XSize\n",
    "    ysize = band.YSize\n",
    "    \n",
    "    tile_size_x = int(math.ceil(xsize/2))\n",
    "    tile_size_y = int(math.ceil(ysize/2))\n",
    "\n",
    "    for i in range(0, xsize, tile_size_x):\n",
    "        for j in range(0, ysize, tile_size_y):\n",
    "            com_string = \"gdal_translate -of GTIFF -srcwin \" + str(i)+ \", \" + str(j) + \", \" + str(tile_size_x) + \", \" + str(tile_size_y) + \" \" + str(in_path) + \" \" + str(out_path) + str(i) + \"_\" + str(j) + \".tif\"\n",
    "            os.system(com_string)\n",
    "            \n",
    "    ds = None"
   ]
  },
  {
   "cell_type": "code",
   "execution_count": null,
   "metadata": {
    "collapsed": false
   },
   "outputs": [],
   "source": [
    "files = glob.glob('TripleSat\\**\\*.tif')\n",
    "# Inspect a .tif file\n",
    "print(gdal.Info(files[0]))"
   ]
  },
  {
   "cell_type": "code",
   "execution_count": null,
   "metadata": {
    "collapsed": false
   },
   "outputs": [],
   "source": [
    "tzinfo=datetime.timezone.utc\n",
    "print(tzinfo)"
   ]
  }
 ],
 "metadata": {
  "kernelspec": {
   "display_name": "Python [conda env:gdalenv]",
   "language": "python",
   "name": "conda-env-gdalenv-py"
  },
  "language_info": {
   "codemirror_mode": {
    "name": "ipython",
    "version": 3
   },
   "file_extension": ".py",
   "mimetype": "text/x-python",
   "name": "python",
   "nbconvert_exporter": "python",
   "pygments_lexer": "ipython3",
   "version": "3.5.4"
  }
 },
 "nbformat": 4,
 "nbformat_minor": 0
}
