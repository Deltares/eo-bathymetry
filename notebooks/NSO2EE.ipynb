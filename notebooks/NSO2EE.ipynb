{
 "cells": [
  {
   "cell_type": "code",
   "execution_count": 1,
   "metadata": {
    "collapsed": false
   },
   "outputs": [],
   "source": [
    "import os\n",
    "import sys\n",
    "import re\n",
    "import glob\n",
    "import subprocess\n",
    "import time\n",
    "import datetime\n",
    "import pytz\n",
    "import exifread\n",
    "import zipfile\n",
    "import gdal\n",
    "import pandas as pd\n",
    "\n",
    "import ee\n",
    "import ee.cli\n",
    "import ee.cli.commands\n",
    "import ee.cli.utils"
   ]
  },
  {
   "cell_type": "code",
   "execution_count": 2,
   "metadata": {
    "collapsed": true
   },
   "outputs": [],
   "source": [
    "def run(cmd):\n",
    "    print(cmd)\n",
    "    subprocess.call(cmd)\n",
    "    \n",
    "def extractAll(zipName):\n",
    "    z = zipfile.PyZipFile(zipName)\n",
    "    for f in z.namelist():\n",
    "        if f.endswith('/'):\n",
    "            os.makedirs(f)\n",
    "        else:\n",
    "            z.extract(f)"
   ]
  },
  {
   "cell_type": "code",
   "execution_count": 3,
   "metadata": {
    "collapsed": true
   },
   "outputs": [],
   "source": [
    "ee.Initialize()\n",
    "ee_config = ee.cli.utils.CommandLineConfig()"
   ]
  },
  {
   "cell_type": "code",
   "execution_count": 6,
   "metadata": {
    "collapsed": false
   },
   "outputs": [
    {
     "name": "stdout",
     "output_type": "stream",
     "text": [
      "['Number of files to upload as assets = 8']\n",
      "['Number of zipped files = 1']\n"
     ]
    }
   ],
   "source": [
    "local = pytz.timezone(\"Europe/Amsterdam\")\n",
    "input_dir = r'P:/11202200.005-kpp-cip2018/data/Satellitedataportaal'\n",
    "os.chdir(input_dir)\n",
    "\n",
    "rapideye = False\n",
    "triplesat = True\n",
    "\n",
    "if rapideye:\n",
    "    # RapidEye locations searched: 3162816, 3162817, 3162818, 3163721, 3163722, 3263706\n",
    "    # find all .tif and .zip files\n",
    "    files = glob.glob('RapidEye/**/**/*.tif', recursive=True)\n",
    "    zippedfiles = glob.glob('RapidEye/**/**/*.zip', recursive=True)\n",
    "    dst = 'RapidEye/'\n",
    "    print(['Number of files to upload as assets = '+str(len(files))])\n",
    "    print(['Number of zipped files = '+str(len(zippedfiles))])\n",
    "elif triplesat:\n",
    "    # TripleSat locations searched: Ameland, Dokkum, Haamstede, Hulst, Terschelling, Westkapelle\n",
    "    files = glob.glob('TripleSat/Tri_RD_8bit_RGB_80cm/*.tif')\n",
    "    zippedfiles = glob.glob('TripleSat/Tri_RD_8bit_RGB_80cm/**/**/**/*.zip')#, recursive=True)\n",
    "    dst = 'TripleSat/Tri_RD_8bit_RGB_80cm/'\n",
    "    print(['Number of files to upload as assets = '+str(len(files))])\n",
    "    print(['Number of zipped files = '+str(len(zippedfiles))])\n",
    "#     print(zippedfiles)\n",
    "else:\n",
    "    print(\"No satellite selected.\")\n",
    "    \n",
    "os.chdir(dst)"
   ]
  },
  {
   "cell_type": "code",
   "execution_count": 8,
   "metadata": {
    "collapsed": false
   },
   "outputs": [
    {
     "name": "stdout",
     "output_type": "stream",
     "text": [
      "['Unzipped .tif file from 20180224_093618_Tri_80cm_RD_8bit_RGB_Hulst.zip']\n"
     ]
    }
   ],
   "source": [
    "# Files must all be in the same file for Google Earth Engine Batch Asset Manager,\n",
    "# but ftp.satellietdataportaal.nl transfer for RapidEye was categorized in monthly/daily folders\n",
    "\n",
    "# Unzip all\n",
    "for j in zippedfiles:\n",
    "    filename = os.path.basename(j)\n",
    "    filename_no_ext = os.path.splitext(j)[0]\n",
    "    filename_unzipped = os.path.join(input_dir,filename_no_ext+'.tif')\n",
    "    is_unzipped = os.path.lexists(filename_unzipped)\n",
    "    if is_unzipped: \n",
    "        os.remove(os.path.join(input_dir,j))\n",
    "    else:\n",
    "        extractAll(os.path.join(input_dir,j))\n",
    "        print(['Unzipped .tif file from ' + filename])\n",
    "        os.remove(os.path.join(input_dir,j))\n",
    "\n",
    "# Move all files to destination path\n",
    "for k in files:\n",
    "    filename = os.path.basename(k)\n",
    "    path_move_file = os.path.join(input_dir,dst,filename)\n",
    "    if os.path.lexists(path_move_file):\n",
    "        pass\n",
    "    else:\n",
    "        os.rename(os.path.join(input_dir,k), path_move_file)\n",
    "\n",
    "# delete empty directories\n",
    "if rapideye:\n",
    "    empty_dir = glob.glob('RapidEye/**/**')\n",
    "elif triplesat:\n",
    "    empty_dir = glob.glob('TripleSat/Tri_RD_8bit_RGB_80cm/**/**/**')\n",
    "else:\n",
    "    print(\"No satellite selected.\")\n",
    "\n",
    "for e in empty_dir:\n",
    "    os.rmdir(os.path.join(input_dir,e))"
   ]
  },
  {
   "cell_type": "code",
   "execution_count": 11,
   "metadata": {
    "collapsed": false
   },
   "outputs": [
    {
     "name": "stdout",
     "output_type": "stream",
     "text": [
      "['Number of files to upload as assets = 9']\n"
     ]
    },
    {
     "data": {
      "text/html": [
       "<div>\n",
       "<style scoped>\n",
       "    .dataframe tbody tr th:only-of-type {\n",
       "        vertical-align: middle;\n",
       "    }\n",
       "\n",
       "    .dataframe tbody tr th {\n",
       "        vertical-align: top;\n",
       "    }\n",
       "\n",
       "    .dataframe thead th {\n",
       "        text-align: right;\n",
       "    }\n",
       "</style>\n",
       "<table border=\"1\" class=\"dataframe\">\n",
       "  <thead>\n",
       "    <tr style=\"text-align: right;\">\n",
       "      <th></th>\n",
       "      <th>system:time_start</th>\n",
       "    </tr>\n",
       "    <tr>\n",
       "      <th>filename</th>\n",
       "      <th></th>\n",
       "    </tr>\n",
       "  </thead>\n",
       "  <tbody>\n",
       "    <tr>\n",
       "      <th>20180318_093534_Tri_80cm_RD_8bit_RGB_Ameland</th>\n",
       "      <td>1.521362e+09</td>\n",
       "    </tr>\n",
       "    <tr>\n",
       "      <th>20170323_091028_Tri_80cm_RD_8bit_RGB_Terschelling</th>\n",
       "      <td>1.490257e+09</td>\n",
       "    </tr>\n",
       "    <tr>\n",
       "      <th>20170527_091129_Tri_80cm_RD_8bit_RGB_Dokkum</th>\n",
       "      <td>1.495869e+09</td>\n",
       "    </tr>\n",
       "    <tr>\n",
       "      <th>20180319_100130_Tri_80cm_RD_8bit_RGB_Westkapelle</th>\n",
       "      <td>1.521450e+09</td>\n",
       "    </tr>\n",
       "    <tr>\n",
       "      <th>20180224_093618_Tri_80cm_RD_8bit_RGB_Hulst</th>\n",
       "      <td>1.519461e+09</td>\n",
       "    </tr>\n",
       "  </tbody>\n",
       "</table>\n",
       "</div>"
      ],
      "text/plain": [
       "                                                   system:time_start\n",
       "filename                                                            \n",
       "20180318_093534_Tri_80cm_RD_8bit_RGB_Ameland            1.521362e+09\n",
       "20170323_091028_Tri_80cm_RD_8bit_RGB_Terschelling       1.490257e+09\n",
       "20170527_091129_Tri_80cm_RD_8bit_RGB_Dokkum             1.495869e+09\n",
       "20180319_100130_Tri_80cm_RD_8bit_RGB_Westkapelle        1.521450e+09\n",
       "20180224_093618_Tri_80cm_RD_8bit_RGB_Hulst              1.519461e+09"
      ]
     },
     "execution_count": 11,
     "metadata": {},
     "output_type": "execute_result"
    }
   ],
   "source": [
    "df = pd.DataFrame(columns=['filename','system:time_start'])\n",
    "\n",
    "if rapideye:\n",
    "    files = glob.glob('*.tif')\n",
    "\n",
    "    print(['Number of files to upload as assets = '+str(len(files))])\n",
    "\n",
    "    for i, f in enumerate(files):\n",
    "        filename = os.path.splitext(os.path.basename(f))[0]\n",
    "\n",
    "        # convert time to EE DateTime stamp\n",
    "        fh = open(f, 'rb')\n",
    "        tags = exifread.process_file(fh, stop_tag=\"Image DateTime\")\n",
    "        datestring = str(tags[\"Image DateTime\"].values)\n",
    "        t = datetime.datetime.strptime(datestring, '%Y:%m:%d %H:%M:%S')\n",
    "        time_start = t.timestamp()\n",
    "\n",
    "        # add filename and time to dataframe\n",
    "        df.loc[i] = [filename, time_start]\n",
    "        \n",
    "elif triplesat:\n",
    "    files = glob.glob('*.tif')\n",
    "    print(['Number of files to upload as assets = '+str(len(files))])\n",
    "\n",
    "    for i, f in enumerate(files):\n",
    "        filename = os.path.splitext(os.path.basename(f))[0]\n",
    "        datestring = re.findall(r\"\\d{8}_\\d{6}\", filename)[0]        \n",
    "        t = datetime.datetime.strptime(datestring, '%Y%m%d_%H%M%S')\n",
    "        time_start = t.timestamp()\n",
    "\n",
    "        # add filename and time to dataframe\n",
    "        df.loc[i] = [filename, time_start]\n",
    "        \n",
    "else:\n",
    "    print(\"No satellite selected.\")\n",
    "\n",
    "# save dataframe as csv for metadata\n",
    "df.set_index('filename', inplace=True)\n",
    "meta = 'metadata.csv'\n",
    "df.to_csv(meta)\n",
    "df.head(n=5)"
   ]
  },
  {
   "cell_type": "code",
   "execution_count": 13,
   "metadata": {
    "collapsed": false
   },
   "outputs": [
    {
     "name": "stdout",
     "output_type": "stream",
     "text": [
      "geebam upload --source P:/11202200.005-kpp-cip2018/data/Satellitedataportaal\\TripleSat/Tri_RD_8bit_RGB_80cm/ --dest users/rogersckw9/eo-bathymetry/triplesat -m P:/11202200.005-kpp-cip2018/data/Satellitedataportaal\\TripleSat/Tri_RD_8bit_RGB_80cm/metadata.csv -u rogersckw9@gmail.com\n"
     ]
    }
   ],
   "source": [
    "# Use Google Earth Engine Batch Asset Manager\n",
    "# Details at https://github.com/tracek/gee_asset_manager\n",
    "\n",
    "user = \"rogersckw9@gmail.com\"\n",
    "\n",
    "# Running the following within notebook doesn't work, need to input password.\n",
    "# Copy and paste the following in command line to run\n",
    "if rapideye:\n",
    "    print(\"geebam upload --source {0} --dest users/rogersckw9/eo-bathymetry/rapideye -m {1} -u {2}\".format(os.path.join(input_dir,dst), os.path.join(input_dir,dst,meta), user))\n",
    "elif triplesat:\n",
    "    print(\"geebam upload --source {0} --dest users/rogersckw9/eo-bathymetry/triplesat -m {1} -u {2}\".format(os.path.join(input_dir,dst), os.path.join(input_dir,dst,meta), user))\n",
    "else:\n",
    "    print(\"No satellite selected.\")"
   ]
  },
  {
   "cell_type": "code",
   "execution_count": null,
   "metadata": {
    "collapsed": false
   },
   "outputs": [],
   "source": [
    "# if uploading to Google Cloud first, follow this protocol (this is for RapidEye)\n",
    "\n",
    "for i, f in enumerate(files):\n",
    "    print('Processing file ' + f + ', file index: ' + str(i))\n",
    "\n",
    "    # extract time in UTC\n",
    "    fh = open(f, 'rb')\n",
    "    tags = exifread.process_file(fh, stop_tag=\"Image DateTime\")\n",
    "    datestring = str(tags[\"Image DateTime\"].values)\n",
    "    t = datetime.datetime.strptime(datestring, '%Y:%m:%d %H:%M:%S')\n",
    "    local_t = local.localize(t, is_dst=None)\n",
    "    utc_t = local_t.astimezone(pytz.utc)\n",
    "    time_start = utc_t.strftime('%Y-%m-%dT%H:%M:%S')\n",
    "\n",
    "    # parse file names\n",
    "    filename = os.path.basename(f)\n",
    "    filename_no_ext = os.path.splitext(filename)[0]\n",
    "\n",
    "    # get nodata value ... UGLY, UGLY code!\n",
    "    nodata_value = -99999999\n",
    "    with open(f, encoding=\"latin_1\") as asc:\n",
    "         for line in asc:\n",
    "            if \"nodata_value\" in line.lower():\n",
    "                nodata_value = line.split()[1]\n",
    "                break\n",
    "    \n",
    "    run(r\"C:\\Users\\Wilson\\AppData\\Local\\Google\\Cloud SDK\\google-cloud-sdk\\bin\\gsutil.cmd cp {0} gs://eo-bathymetry/rapideye/{1}\".format(os.path.join(input_dir,f),filename))\n",
    "            \n",
    "    # upload to GEE\n",
    "    retry_count = 0\n",
    "\n",
    "    while True:\n",
    "        run(\"earthengine upload image --wait --asset_id=users/rogersckw9/rapideye/{1} --nodata_value={0} gs://eo-bathymetry/rapideye/{1}\".format(nodata_value, filename))\n",
    "                    \n",
    "        check last task status\n",
    "        tasks = ee.data.getTaskList()\n",
    "        task_state = None\n",
    "        for task in tasks:\n",
    "            task_status = ee.data.getTaskStatus([task['id']])\n",
    "            task_state = task_status[0]['state']\n",
    "            print(task_status)\n",
    "            break\n",
    "\n",
    "        if task_state != 'FAILED':\n",
    "            break # done\n",
    "        else:\n",
    "            retry_count += 1\n",
    "            print('Retrying upload ' + str(retry_count) + ' ...')\n",
    "\n",
    "        if retry_count > 10:\n",
    "            print('Maximum number of retry reached, exiting ...')\n",
    "            sys.exit(0)\n",
    "    \n",
    "    # set time\n",
    "    run(\"earthengine asset set --time_start {0} users/rogersckw9/rapideye/{1}\".format(time_start, filename_no_ext))\n",
    "\n",
    "    if rapideye:\n",
    "    \n",
    "elif triplesat:\n",
    "\n",
    "else:\n",
    "    print(\"No satellite selected.\")"
   ]
  },
  {
   "cell_type": "code",
   "execution_count": null,
   "metadata": {
    "collapsed": false
   },
   "outputs": [],
   "source": [
    "# If TripleSat images are larger than 10GB (RGBI tend to be) must split images first to upload to GEE.\n",
    "input_dir = r'P:\\11202200.005-kpp-cip2018\\data\\Satellitedataportaal'\n",
    "os.chdir(input_dir)\n",
    "\n",
    "# find all .tif files\n",
    "files = glob.glob('TripleSat\\Tri_RD_8bit_RGBI_80cm\\*.tif')#, recursive=True)\n",
    "print(['Number of files to upload as assets = '+str(len(files))])\n",
    "\n",
    "for f in files:\n",
    "    filename = os.path.basename(f)\n",
    "    filename_no_ext = os.path.splitext(filename)[0]    \n",
    "    in_path = os.path.join(input_dir,f)\n",
    "    out_path = os.path.join(input_dir,filename_no_ext)\n",
    "    ds = gdal.Open(in_path)\n",
    "    band = ds.GetRasterBand(1)\n",
    "    xsize = band.XSize\n",
    "    ysize = band.YSize\n",
    "    \n",
    "    tile_size_x = int(math.ceil(xsize/2))\n",
    "    tile_size_y = int(math.ceil(ysize/2))\n",
    "\n",
    "    for i in range(0, xsize, tile_size_x):\n",
    "        for j in range(0, ysize, tile_size_y):\n",
    "            com_string = \"gdal_translate -of GTIFF -srcwin \" + str(i)+ \", \" + str(j) + \", \" + str(tile_size_x) + \", \" + str(tile_size_y) + \" \" + str(in_path) + \" \" + str(out_path) + str(i) + \"_\" + str(j) + \".tif\"\n",
    "            os.system(com_string)"
   ]
  },
  {
   "cell_type": "code",
   "execution_count": null,
   "metadata": {
    "collapsed": false
   },
   "outputs": [],
   "source": [
    "files = glob.glob('TripleSat\\**\\*.tif')\n",
    "# Inspect a .tif file\n",
    "print(gdal.Info(files[0]))"
   ]
  }
 ],
 "metadata": {
  "kernelspec": {
   "display_name": "Python [conda env:gdalenv]",
   "language": "python",
   "name": "conda-env-gdalenv-py"
  },
  "language_info": {
   "codemirror_mode": {
    "name": "ipython",
    "version": 3
   },
   "file_extension": ".py",
   "mimetype": "text/x-python",
   "name": "python",
   "nbconvert_exporter": "python",
   "pygments_lexer": "ipython3",
   "version": "3.5.4"
  }
 },
 "nbformat": 4,
 "nbformat_minor": 0
}
