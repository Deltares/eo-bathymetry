{
 "cells": [
  {
   "cell_type": "code",
   "execution_count": 1,
   "metadata": {},
   "outputs": [],
   "source": [
    "%matplotlib widget\n",
    "# %matplotlib inline\n",
    "# %matplotlib qt \n",
    "\n",
    "import matplotlib.pyplot as plt\n",
    "import pandas as pd\n",
    "import numpy as np\n",
    "import folium\n",
    "import geopandas as gpd\n",
    "from shapely.geometry import shape, GeometryCollection\n",
    "from pyproj import CRS\n",
    "from tqdm.notebook import tqdm\n",
    "from tqdm import trange\n",
    "from ipywidgets import interact, interactive, fixed\n",
    "import ipywidgets as widgets\n",
    "\n",
    "import ee\n",
    "ee.Initialize()\n",
    "\n",
    "import geemap.eefolium as emap\n",
    "create_map = lambda: emap.Map()"
   ]
  },
  {
   "cell_type": "markdown",
   "metadata": {},
   "source": [
    "## Query water occurrence values for all ICESat-2 points"
   ]
  },
  {
   "cell_type": "code",
   "execution_count": 2,
   "metadata": {},
   "outputs": [],
   "source": [
    "# DK\n",
    "# df = pd.read_parquet('../data/out/icesat-2-DK.parquet')\n",
    "# image = ee.Image('users/gena/eo-bathymetry/NDWI/NDWI-4521-v9') \n",
    "\n",
    "# NL\n",
    "df = pd.read_parquet('../data/out/icesat-2-NL.parquet')\n",
    "extent = [5.8062744140625, 53.36202615413913, 6.1791229248046875, 53.5092846887053]\n",
    "rect = ee.Geometry.Rectangle(extent)\n",
    "image = ee.ImageCollection([ \n",
    "    ee.Image('users/gena/eo-bathymetry/NDWI/NDWI-4520-v9').resample('bicubic'),\n",
    "    ee.Image('users/gena/eo-bathymetry/NDWI/NDWI-4448-v9').resample('bicubic')\n",
    "]).mosaic().clip(rect)\n",
    "\n",
    "# FR\n",
    "# df = pd.read_parquet('../data/out/icesat-2-FR.parquet')\n",
    "# image = ee.Image('users/gena/eo-bathymetry/NDWI/NDWI-4300-v9')"
   ]
  },
  {
   "cell_type": "code",
   "execution_count": 3,
   "metadata": {},
   "outputs": [
    {
     "name": "stdout",
     "output_type": "stream",
     "text": [
      "{'water_score_max': 0.1594305609635043, 'water_score_min': -0.10875057600360025}\n"
     ]
    }
   ],
   "source": [
    "print(image.reduceRegion(reducer=ee.Reducer.minMax(), geometry=image.geometry(), scale=90).getInfo())"
   ]
  },
  {
   "cell_type": "code",
   "execution_count": 4,
   "metadata": {},
   "outputs": [
    {
     "data": {
      "text/plain": [
       "Index(['track_id', 'date', 'beam', 'series', 'lon', 'lat', 'h'], dtype='object')"
      ]
     },
     "execution_count": 4,
     "metadata": {},
     "output_type": "execute_result"
    }
   ],
   "source": [
    "df.columns"
   ]
  },
  {
   "cell_type": "code",
   "execution_count": 5,
   "metadata": {},
   "outputs": [
    {
     "data": {
      "text/plain": [
       "array(['Noise', 'Buffer', 'Low', 'Medium', 'High'], dtype=object)"
      ]
     },
     "execution_count": 5,
     "metadata": {},
     "output_type": "execute_result"
    }
   ],
   "source": [
    "df.series.unique()"
   ]
  },
  {
   "cell_type": "code",
   "execution_count": 6,
   "metadata": {},
   "outputs": [],
   "source": [
    "BATCH_SIZE = 50000 # fails after ~90k"
   ]
  },
  {
   "cell_type": "code",
   "execution_count": 7,
   "metadata": {},
   "outputs": [
    {
     "data": {
      "text/plain": [
       "48"
      ]
     },
     "execution_count": 7,
     "metadata": {},
     "output_type": "execute_result"
    }
   ],
   "source": [
    "len(df) // BATCH_SIZE"
   ]
  },
  {
   "cell_type": "code",
   "execution_count": 8,
   "metadata": {},
   "outputs": [],
   "source": [
    "# df2 = df_high.iloc[:BATCH_SIZE,:]"
   ]
  },
  {
   "cell_type": "code",
   "execution_count": 9,
   "metadata": {},
   "outputs": [],
   "source": [
    "df2 = df.sample(n=BATCH_SIZE)"
   ]
  },
  {
   "cell_type": "code",
   "execution_count": 10,
   "metadata": {},
   "outputs": [
    {
     "data": {
      "text/plain": [
       "2448528"
      ]
     },
     "execution_count": 10,
     "metadata": {},
     "output_type": "execute_result"
    }
   ],
   "source": [
    "len(df)"
   ]
  },
  {
   "cell_type": "code",
   "execution_count": 11,
   "metadata": {},
   "outputs": [],
   "source": [
    "# # extent = [8.46, 55.16, 8.63, 55.30]\n",
    "# # extent = [8.46, 55.36, 8.62, 55.42]\n",
    "\n",
    "# df2 = df[(df.lon > extent[0]) & (df.lon < extent[2]) & (df.lat > extent[1]) & (df.lat < extent[3])]\n",
    "# df2 = df2[(df2.series != 'Noise')]\n",
    "# # df2 = df2.copy()\n",
    "\n",
    "# len(df2)"
   ]
  },
  {
   "cell_type": "code",
   "execution_count": 12,
   "metadata": {},
   "outputs": [],
   "source": [
    "# df['lat_'] = df.lon\n",
    "# df['lon'] = df.lat\n",
    "# df['lat'] = df.lat_\n",
    "# df.to_parquet('../data/out/icesat-2-NL.parquet')"
   ]
  },
  {
   "cell_type": "code",
   "execution_count": 13,
   "metadata": {},
   "outputs": [
    {
     "data": {
      "text/html": [
       "<div>\n",
       "<style scoped>\n",
       "    .dataframe tbody tr th:only-of-type {\n",
       "        vertical-align: middle;\n",
       "    }\n",
       "\n",
       "    .dataframe tbody tr th {\n",
       "        vertical-align: top;\n",
       "    }\n",
       "\n",
       "    .dataframe thead th {\n",
       "        text-align: right;\n",
       "    }\n",
       "</style>\n",
       "<table border=\"1\" class=\"dataframe\">\n",
       "  <thead>\n",
       "    <tr style=\"text-align: right;\">\n",
       "      <th></th>\n",
       "      <th>track_id</th>\n",
       "      <th>date</th>\n",
       "      <th>beam</th>\n",
       "      <th>series</th>\n",
       "      <th>lon</th>\n",
       "      <th>lat</th>\n",
       "      <th>h</th>\n",
       "    </tr>\n",
       "  </thead>\n",
       "  <tbody>\n",
       "    <tr>\n",
       "      <th>0</th>\n",
       "      <td>252</td>\n",
       "      <td>2019-01-13</td>\n",
       "      <td>gt3r</td>\n",
       "      <td>Noise</td>\n",
       "      <td>5.824986</td>\n",
       "      <td>53.490235</td>\n",
       "      <td>18.572187</td>\n",
       "    </tr>\n",
       "    <tr>\n",
       "      <th>1</th>\n",
       "      <td>252</td>\n",
       "      <td>2019-01-13</td>\n",
       "      <td>gt3r</td>\n",
       "      <td>Noise</td>\n",
       "      <td>5.824943</td>\n",
       "      <td>53.489975</td>\n",
       "      <td>17.784880</td>\n",
       "    </tr>\n",
       "    <tr>\n",
       "      <th>2</th>\n",
       "      <td>252</td>\n",
       "      <td>2019-01-13</td>\n",
       "      <td>gt3r</td>\n",
       "      <td>Noise</td>\n",
       "      <td>5.824911</td>\n",
       "      <td>53.489753</td>\n",
       "      <td>91.943270</td>\n",
       "    </tr>\n",
       "    <tr>\n",
       "      <th>3</th>\n",
       "      <td>252</td>\n",
       "      <td>2019-01-13</td>\n",
       "      <td>gt3r</td>\n",
       "      <td>Noise</td>\n",
       "      <td>5.824727</td>\n",
       "      <td>53.488632</td>\n",
       "      <td>66.256035</td>\n",
       "    </tr>\n",
       "    <tr>\n",
       "      <th>4</th>\n",
       "      <td>252</td>\n",
       "      <td>2019-01-13</td>\n",
       "      <td>gt3r</td>\n",
       "      <td>Noise</td>\n",
       "      <td>5.824203</td>\n",
       "      <td>53.485430</td>\n",
       "      <td>78.600680</td>\n",
       "    </tr>\n",
       "    <tr>\n",
       "      <th>...</th>\n",
       "      <td>...</td>\n",
       "      <td>...</td>\n",
       "      <td>...</td>\n",
       "      <td>...</td>\n",
       "      <td>...</td>\n",
       "      <td>...</td>\n",
       "      <td>...</td>\n",
       "    </tr>\n",
       "    <tr>\n",
       "      <th>2448523</th>\n",
       "      <td>1357</td>\n",
       "      <td>2020-03-24</td>\n",
       "      <td>gt1l</td>\n",
       "      <td>High</td>\n",
       "      <td>5.892009</td>\n",
       "      <td>53.508791</td>\n",
       "      <td>39.567448</td>\n",
       "    </tr>\n",
       "    <tr>\n",
       "      <th>2448524</th>\n",
       "      <td>1357</td>\n",
       "      <td>2020-03-24</td>\n",
       "      <td>gt1l</td>\n",
       "      <td>High</td>\n",
       "      <td>5.892008</td>\n",
       "      <td>53.508798</td>\n",
       "      <td>39.205154</td>\n",
       "    </tr>\n",
       "    <tr>\n",
       "      <th>2448525</th>\n",
       "      <td>1357</td>\n",
       "      <td>2020-03-24</td>\n",
       "      <td>gt1l</td>\n",
       "      <td>High</td>\n",
       "      <td>5.892007</td>\n",
       "      <td>53.508804</td>\n",
       "      <td>39.256588</td>\n",
       "    </tr>\n",
       "    <tr>\n",
       "      <th>2448526</th>\n",
       "      <td>1357</td>\n",
       "      <td>2020-03-24</td>\n",
       "      <td>gt1l</td>\n",
       "      <td>High</td>\n",
       "      <td>5.892003</td>\n",
       "      <td>53.508830</td>\n",
       "      <td>39.418655</td>\n",
       "    </tr>\n",
       "    <tr>\n",
       "      <th>2448527</th>\n",
       "      <td>1357</td>\n",
       "      <td>2020-03-24</td>\n",
       "      <td>gt1l</td>\n",
       "      <td>High</td>\n",
       "      <td>5.892002</td>\n",
       "      <td>53.508836</td>\n",
       "      <td>39.111744</td>\n",
       "    </tr>\n",
       "  </tbody>\n",
       "</table>\n",
       "<p>2448528 rows × 7 columns</p>\n",
       "</div>"
      ],
      "text/plain": [
       "        track_id        date  beam series       lon        lat          h\n",
       "0            252  2019-01-13  gt3r  Noise  5.824986  53.490235  18.572187\n",
       "1            252  2019-01-13  gt3r  Noise  5.824943  53.489975  17.784880\n",
       "2            252  2019-01-13  gt3r  Noise  5.824911  53.489753  91.943270\n",
       "3            252  2019-01-13  gt3r  Noise  5.824727  53.488632  66.256035\n",
       "4            252  2019-01-13  gt3r  Noise  5.824203  53.485430  78.600680\n",
       "...          ...         ...   ...    ...       ...        ...        ...\n",
       "2448523     1357  2020-03-24  gt1l   High  5.892009  53.508791  39.567448\n",
       "2448524     1357  2020-03-24  gt1l   High  5.892008  53.508798  39.205154\n",
       "2448525     1357  2020-03-24  gt1l   High  5.892007  53.508804  39.256588\n",
       "2448526     1357  2020-03-24  gt1l   High  5.892003  53.508830  39.418655\n",
       "2448527     1357  2020-03-24  gt1l   High  5.892002  53.508836  39.111744\n",
       "\n",
       "[2448528 rows x 7 columns]"
      ]
     },
     "execution_count": 13,
     "metadata": {},
     "output_type": "execute_result"
    }
   ],
   "source": [
    "df"
   ]
  },
  {
   "cell_type": "code",
   "execution_count": 14,
   "metadata": {},
   "outputs": [],
   "source": [
    "df2 = df[(df.series != 'Noise')].sample(n=BATCH_SIZE)"
   ]
  },
  {
   "cell_type": "code",
   "execution_count": 15,
   "metadata": {},
   "outputs": [],
   "source": [
    "coords = list(zip(df2.lon, df2.lat))"
   ]
  },
  {
   "cell_type": "code",
   "execution_count": 16,
   "metadata": {},
   "outputs": [
    {
     "data": {
      "text/plain": [
       "50000"
      ]
     },
     "execution_count": 16,
     "metadata": {},
     "output_type": "execute_result"
    }
   ],
   "source": [
    "len(df2)"
   ]
  },
  {
   "cell_type": "code",
   "execution_count": 17,
   "metadata": {},
   "outputs": [
    {
     "data": {
      "text/plain": [
       "50000"
      ]
     },
     "execution_count": 17,
     "metadata": {},
     "output_type": "execute_result"
    }
   ],
   "source": [
    "len(coords)"
   ]
  },
  {
   "cell_type": "code",
   "execution_count": 18,
   "metadata": {},
   "outputs": [
    {
     "data": {
      "text/html": [
       "<div style=\"width:100%;\"><div style=\"position:relative;width:100%;height:0;padding-bottom:60%;\"><iframe src=\"data:text/html;charset=utf-8;base64,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\" style=\"position:absolute;width:100%;height:100%;left:0;top:0;border:none !important;\" allowfullscreen webkitallowfullscreen mozallowfullscreen></iframe></div></div>"
      ],
      "text/plain": [
       "<geemap.eefolium.Map at 0x211f2c8ffc8>"
      ]
     },
     "execution_count": 18,
     "metadata": {},
     "output_type": "execute_result"
    }
   ],
   "source": [
    "g = ee.Geometry.MultiPoint(coords) # visualize using multi-point instead of feature collection - faster\n",
    "pointsRGB = ee.FeatureCollection(g).style(pointSize=2, color='00000000', fillColor='ffeda0')\n",
    "pointsRGB = pointsRGB.select(0).mask().focal_max(3).selfMask().visualize(palette=['000000'], opacity=0.5).blend(pointsRGB)\n",
    "\n",
    "extent = ee.Geometry.Rectangle(coords=[df.lon.min(), df.lat.min(), df.lon.max(), df.lat.max()]) \n",
    "extent = ee.Geometry.LineString(extent.coordinates().get(0))\n",
    "\n",
    "imageRGB = image.updateMask(image.gt(-0.09)) \n",
    "\n",
    "m = create_map()\n",
    "m.addLayer(imageRGB, { 'min': -0.10, 'max': 0.15, 'palette': ['lightblue', 'black'] }, 'water occurrence')\n",
    "m.addLayer(extent, { 'color': 'white' }, 'rect')\n",
    "m.addLayer(pointsRGB, {}, 'sampled points')\n",
    "m.setCenter(df.lon.mean(), df.lat.mean(), 11)\n",
    "m.addLayerControl()\n",
    "m"
   ]
  },
  {
   "cell_type": "code",
   "execution_count": 19,
   "metadata": {},
   "outputs": [],
   "source": [
    "# features = ee.List(coords).map(lambda o: ee.Feature(ee.Geometry.Point(coords=o)))\n",
    "# features = ee.FeatureCollection(features)\n",
    "# features.size().getInfo()"
   ]
  },
  {
   "cell_type": "code",
   "execution_count": 20,
   "metadata": {},
   "outputs": [],
   "source": [
    "# extent = ee.Geometry.Rectangle(coords=[df.lon.min(), df.lat.min(), df.lon.max(), df.lat.max()]).buffer(1000, 100)\n",
    "# extent_image = ee.Image(0).paint(ee.FeatureCollection(extent), 1)\n",
    "\n",
    "# image = image.mask(extent_image)"
   ]
  },
  {
   "cell_type": "code",
   "execution_count": 21,
   "metadata": {},
   "outputs": [],
   "source": [
    "# values = image.unmask(-999, False).reduceRegions(collection=features, reducer=ee.Reducer.first().setOutputs(['water_occurrence']), scale=10, tileScale=1)\n",
    "# results = values.aggregate_array('water_occurrence').getInfo()"
   ]
  },
  {
   "cell_type": "code",
   "execution_count": 22,
   "metadata": {},
   "outputs": [],
   "source": [
    "# values.toList(1, 0).get(0).getInfo()"
   ]
  },
  {
   "cell_type": "code",
   "execution_count": 23,
   "metadata": {},
   "outputs": [],
   "source": [
    "# len(results)"
   ]
  },
  {
   "cell_type": "code",
   "execution_count": 24,
   "metadata": {},
   "outputs": [],
   "source": [
    "# df2['water_occurrence'] = results"
   ]
  },
  {
   "cell_type": "code",
   "execution_count": 25,
   "metadata": {},
   "outputs": [],
   "source": [
    "# len(df)"
   ]
  },
  {
   "cell_type": "code",
   "execution_count": 26,
   "metadata": {},
   "outputs": [
    {
     "data": {
      "application/vnd.jupyter.widget-view+json": {
       "model_id": "66488bdb7624431b963ecf426ca8a64b",
       "version_major": 2,
       "version_minor": 0
      },
      "text/plain": [
       "HBox(children=(FloatProgress(value=0.0, max=49.0), HTML(value='')))"
      ]
     },
     "metadata": {},
     "output_type": "display_data"
    },
    {
     "name": "stdout",
     "output_type": "stream",
     "text": [
      "\n"
     ]
    }
   ],
   "source": [
    "results = []\n",
    "\n",
    "for i in tqdm(range(0, len(df), BATCH_SIZE)):\n",
    "    coords = list(zip(df.lon.values[i:(i+BATCH_SIZE)], df.lat.values[i:(i+BATCH_SIZE)]))\n",
    "    \n",
    "    features = ee.List(coords).map(lambda o: ee.Feature(ee.Geometry.Point(coords=o)))\n",
    "    features = ee.FeatureCollection(features)\n",
    "    \n",
    "    values = image.unmask(-999, False).reduceRegions(collection=features, reducer=ee.Reducer.first().setOutputs(['water_occurrence']), scale=10, tileScale=1)\n",
    "    results = results + values.aggregate_array('water_occurrence').getInfo()"
   ]
  },
  {
   "cell_type": "code",
   "execution_count": 27,
   "metadata": {},
   "outputs": [
    {
     "data": {
      "text/plain": [
       "2448528"
      ]
     },
     "execution_count": 27,
     "metadata": {},
     "output_type": "execute_result"
    }
   ],
   "source": [
    "len(results)"
   ]
  },
  {
   "cell_type": "code",
   "execution_count": 28,
   "metadata": {},
   "outputs": [],
   "source": [
    "df['water_occurrence'] = results"
   ]
  },
  {
   "cell_type": "code",
   "execution_count": 29,
   "metadata": {},
   "outputs": [
    {
     "data": {
      "text/html": [
       "<div>\n",
       "<style scoped>\n",
       "    .dataframe tbody tr th:only-of-type {\n",
       "        vertical-align: middle;\n",
       "    }\n",
       "\n",
       "    .dataframe tbody tr th {\n",
       "        vertical-align: top;\n",
       "    }\n",
       "\n",
       "    .dataframe thead th {\n",
       "        text-align: right;\n",
       "    }\n",
       "</style>\n",
       "<table border=\"1\" class=\"dataframe\">\n",
       "  <thead>\n",
       "    <tr style=\"text-align: right;\">\n",
       "      <th></th>\n",
       "      <th>track_id</th>\n",
       "      <th>date</th>\n",
       "      <th>beam</th>\n",
       "      <th>series</th>\n",
       "      <th>lon</th>\n",
       "      <th>lat</th>\n",
       "      <th>h</th>\n",
       "      <th>water_occurrence</th>\n",
       "    </tr>\n",
       "  </thead>\n",
       "  <tbody>\n",
       "    <tr>\n",
       "      <th>0</th>\n",
       "      <td>252</td>\n",
       "      <td>2019-01-13</td>\n",
       "      <td>gt3r</td>\n",
       "      <td>Noise</td>\n",
       "      <td>5.824986</td>\n",
       "      <td>53.490235</td>\n",
       "      <td>18.572187</td>\n",
       "      <td>0.147138</td>\n",
       "    </tr>\n",
       "    <tr>\n",
       "      <th>1</th>\n",
       "      <td>252</td>\n",
       "      <td>2019-01-13</td>\n",
       "      <td>gt3r</td>\n",
       "      <td>Noise</td>\n",
       "      <td>5.824943</td>\n",
       "      <td>53.489975</td>\n",
       "      <td>17.784880</td>\n",
       "      <td>0.147032</td>\n",
       "    </tr>\n",
       "    <tr>\n",
       "      <th>2</th>\n",
       "      <td>252</td>\n",
       "      <td>2019-01-13</td>\n",
       "      <td>gt3r</td>\n",
       "      <td>Noise</td>\n",
       "      <td>5.824911</td>\n",
       "      <td>53.489753</td>\n",
       "      <td>91.943270</td>\n",
       "      <td>0.146992</td>\n",
       "    </tr>\n",
       "    <tr>\n",
       "      <th>3</th>\n",
       "      <td>252</td>\n",
       "      <td>2019-01-13</td>\n",
       "      <td>gt3r</td>\n",
       "      <td>Noise</td>\n",
       "      <td>5.824727</td>\n",
       "      <td>53.488632</td>\n",
       "      <td>66.256035</td>\n",
       "      <td>0.146083</td>\n",
       "    </tr>\n",
       "    <tr>\n",
       "      <th>4</th>\n",
       "      <td>252</td>\n",
       "      <td>2019-01-13</td>\n",
       "      <td>gt3r</td>\n",
       "      <td>Noise</td>\n",
       "      <td>5.824203</td>\n",
       "      <td>53.485430</td>\n",
       "      <td>78.600680</td>\n",
       "      <td>0.147541</td>\n",
       "    </tr>\n",
       "    <tr>\n",
       "      <th>...</th>\n",
       "      <td>...</td>\n",
       "      <td>...</td>\n",
       "      <td>...</td>\n",
       "      <td>...</td>\n",
       "      <td>...</td>\n",
       "      <td>...</td>\n",
       "      <td>...</td>\n",
       "      <td>...</td>\n",
       "    </tr>\n",
       "    <tr>\n",
       "      <th>2448523</th>\n",
       "      <td>1357</td>\n",
       "      <td>2020-03-24</td>\n",
       "      <td>gt1l</td>\n",
       "      <td>High</td>\n",
       "      <td>5.892009</td>\n",
       "      <td>53.508791</td>\n",
       "      <td>39.567448</td>\n",
       "      <td>0.144328</td>\n",
       "    </tr>\n",
       "    <tr>\n",
       "      <th>2448524</th>\n",
       "      <td>1357</td>\n",
       "      <td>2020-03-24</td>\n",
       "      <td>gt1l</td>\n",
       "      <td>High</td>\n",
       "      <td>5.892008</td>\n",
       "      <td>53.508798</td>\n",
       "      <td>39.205154</td>\n",
       "      <td>0.144328</td>\n",
       "    </tr>\n",
       "    <tr>\n",
       "      <th>2448525</th>\n",
       "      <td>1357</td>\n",
       "      <td>2020-03-24</td>\n",
       "      <td>gt1l</td>\n",
       "      <td>High</td>\n",
       "      <td>5.892007</td>\n",
       "      <td>53.508804</td>\n",
       "      <td>39.256588</td>\n",
       "      <td>0.144328</td>\n",
       "    </tr>\n",
       "    <tr>\n",
       "      <th>2448526</th>\n",
       "      <td>1357</td>\n",
       "      <td>2020-03-24</td>\n",
       "      <td>gt1l</td>\n",
       "      <td>High</td>\n",
       "      <td>5.892003</td>\n",
       "      <td>53.508830</td>\n",
       "      <td>39.418655</td>\n",
       "      <td>0.144328</td>\n",
       "    </tr>\n",
       "    <tr>\n",
       "      <th>2448527</th>\n",
       "      <td>1357</td>\n",
       "      <td>2020-03-24</td>\n",
       "      <td>gt1l</td>\n",
       "      <td>High</td>\n",
       "      <td>5.892002</td>\n",
       "      <td>53.508836</td>\n",
       "      <td>39.111744</td>\n",
       "      <td>0.144328</td>\n",
       "    </tr>\n",
       "  </tbody>\n",
       "</table>\n",
       "<p>2448528 rows × 8 columns</p>\n",
       "</div>"
      ],
      "text/plain": [
       "        track_id        date  beam series       lon        lat          h  \\\n",
       "0            252  2019-01-13  gt3r  Noise  5.824986  53.490235  18.572187   \n",
       "1            252  2019-01-13  gt3r  Noise  5.824943  53.489975  17.784880   \n",
       "2            252  2019-01-13  gt3r  Noise  5.824911  53.489753  91.943270   \n",
       "3            252  2019-01-13  gt3r  Noise  5.824727  53.488632  66.256035   \n",
       "4            252  2019-01-13  gt3r  Noise  5.824203  53.485430  78.600680   \n",
       "...          ...         ...   ...    ...       ...        ...        ...   \n",
       "2448523     1357  2020-03-24  gt1l   High  5.892009  53.508791  39.567448   \n",
       "2448524     1357  2020-03-24  gt1l   High  5.892008  53.508798  39.205154   \n",
       "2448525     1357  2020-03-24  gt1l   High  5.892007  53.508804  39.256588   \n",
       "2448526     1357  2020-03-24  gt1l   High  5.892003  53.508830  39.418655   \n",
       "2448527     1357  2020-03-24  gt1l   High  5.892002  53.508836  39.111744   \n",
       "\n",
       "         water_occurrence  \n",
       "0                0.147138  \n",
       "1                0.147032  \n",
       "2                0.146992  \n",
       "3                0.146083  \n",
       "4                0.147541  \n",
       "...                   ...  \n",
       "2448523          0.144328  \n",
       "2448524          0.144328  \n",
       "2448525          0.144328  \n",
       "2448526          0.144328  \n",
       "2448527          0.144328  \n",
       "\n",
       "[2448528 rows x 8 columns]"
      ]
     },
     "execution_count": 29,
     "metadata": {},
     "output_type": "execute_result"
    }
   ],
   "source": [
    "df"
   ]
  },
  {
   "cell_type": "code",
   "execution_count": 30,
   "metadata": {},
   "outputs": [],
   "source": [
    "df[df.water_occurrence == -999] = np.nan"
   ]
  },
  {
   "cell_type": "code",
   "execution_count": 31,
   "metadata": {},
   "outputs": [
    {
     "data": {
      "application/vnd.jupyter.widget-view+json": {
       "model_id": "b842cb171a0d4e738c0a5a833a59642a",
       "version_major": 2,
       "version_minor": 0
      },
      "text/plain": [
       "Canvas(toolbar=Toolbar(toolitems=[('Home', 'Reset original view', 'home', 'home'), ('Back', 'Back to previous …"
      ]
     },
     "metadata": {},
     "output_type": "display_data"
    },
    {
     "data": {
      "text/plain": [
       "<matplotlib.axes._subplots.AxesSubplot at 0x211a298b348>"
      ]
     },
     "execution_count": 31,
     "metadata": {},
     "output_type": "execute_result"
    }
   ],
   "source": [
    "fig, ax = plt.subplots()\n",
    "df.water_occurrence.hist(ax=ax, bins=100)"
   ]
  },
  {
   "cell_type": "code",
   "execution_count": 245,
   "metadata": {},
   "outputs": [
    {
     "data": {
      "application/vnd.jupyter.widget-view+json": {
       "model_id": "f47665903672463d95def3dfe49ca943",
       "version_major": 2,
       "version_minor": 0
      },
      "text/plain": [
       "Canvas(toolbar=Toolbar(toolitems=[('Home', 'Reset original view', 'home', 'home'), ('Back', 'Back to previous …"
      ]
     },
     "metadata": {},
     "output_type": "display_data"
    }
   ],
   "source": [
    "# plt.close('all')\n",
    "fig, ax = plt.subplots(figsize=(10, 3))\n",
    "hmin = 45\n",
    "hmax = 49\n",
    "# df3 = df[(df.h > hmin) & (df.h < hmax)]\n",
    "df3 = df\n",
    "\n",
    "df4 = df3[df3.series == 'High']\n",
    "ax.plot(df4.water_occurrence, df4.h, 'k.', markersize=0.5, alpha=0.2)\n",
    "\n",
    "df4 = df3[df3.series == 'Medium']\n",
    "ax.plot(df4.water_occurrence, df4.h, 'r.', markersize=1)\n",
    "\n",
    "df4 = df3[df3.series == 'Buffer']\n",
    "ax.plot(df4.water_occurrence, df4.h, 'b.', markersize=1)\n",
    "\n",
    "ax.set_xlabel('water occurrence')\n",
    "ax.set_ylabel('elevation (ICESat-2)')\n",
    "plt.tight_layout()"
   ]
  },
  {
   "cell_type": "code",
   "execution_count": 32,
   "metadata": {},
   "outputs": [],
   "source": [
    "df2 = df"
   ]
  },
  {
   "cell_type": "code",
   "execution_count": 33,
   "metadata": {},
   "outputs": [
    {
     "data": {
      "text/html": [
       "<div>\n",
       "<style scoped>\n",
       "    .dataframe tbody tr th:only-of-type {\n",
       "        vertical-align: middle;\n",
       "    }\n",
       "\n",
       "    .dataframe tbody tr th {\n",
       "        vertical-align: top;\n",
       "    }\n",
       "\n",
       "    .dataframe thead th {\n",
       "        text-align: right;\n",
       "    }\n",
       "</style>\n",
       "<table border=\"1\" class=\"dataframe\">\n",
       "  <thead>\n",
       "    <tr style=\"text-align: right;\">\n",
       "      <th></th>\n",
       "      <th>track_id</th>\n",
       "      <th>date</th>\n",
       "      <th>beam</th>\n",
       "      <th>series</th>\n",
       "      <th>lon</th>\n",
       "      <th>lat</th>\n",
       "      <th>h</th>\n",
       "      <th>water_occurrence</th>\n",
       "    </tr>\n",
       "  </thead>\n",
       "  <tbody>\n",
       "    <tr>\n",
       "      <th>0</th>\n",
       "      <td>252</td>\n",
       "      <td>2019-01-13</td>\n",
       "      <td>gt3r</td>\n",
       "      <td>Noise</td>\n",
       "      <td>5.824986</td>\n",
       "      <td>53.490235</td>\n",
       "      <td>18.572187</td>\n",
       "      <td>0.147138</td>\n",
       "    </tr>\n",
       "    <tr>\n",
       "      <th>1</th>\n",
       "      <td>252</td>\n",
       "      <td>2019-01-13</td>\n",
       "      <td>gt3r</td>\n",
       "      <td>Noise</td>\n",
       "      <td>5.824943</td>\n",
       "      <td>53.489975</td>\n",
       "      <td>17.784880</td>\n",
       "      <td>0.147032</td>\n",
       "    </tr>\n",
       "    <tr>\n",
       "      <th>2</th>\n",
       "      <td>252</td>\n",
       "      <td>2019-01-13</td>\n",
       "      <td>gt3r</td>\n",
       "      <td>Noise</td>\n",
       "      <td>5.824911</td>\n",
       "      <td>53.489753</td>\n",
       "      <td>91.943270</td>\n",
       "      <td>0.146992</td>\n",
       "    </tr>\n",
       "    <tr>\n",
       "      <th>3</th>\n",
       "      <td>252</td>\n",
       "      <td>2019-01-13</td>\n",
       "      <td>gt3r</td>\n",
       "      <td>Noise</td>\n",
       "      <td>5.824727</td>\n",
       "      <td>53.488632</td>\n",
       "      <td>66.256035</td>\n",
       "      <td>0.146083</td>\n",
       "    </tr>\n",
       "    <tr>\n",
       "      <th>4</th>\n",
       "      <td>252</td>\n",
       "      <td>2019-01-13</td>\n",
       "      <td>gt3r</td>\n",
       "      <td>Noise</td>\n",
       "      <td>5.824203</td>\n",
       "      <td>53.485430</td>\n",
       "      <td>78.600680</td>\n",
       "      <td>0.147541</td>\n",
       "    </tr>\n",
       "    <tr>\n",
       "      <th>...</th>\n",
       "      <td>...</td>\n",
       "      <td>...</td>\n",
       "      <td>...</td>\n",
       "      <td>...</td>\n",
       "      <td>...</td>\n",
       "      <td>...</td>\n",
       "      <td>...</td>\n",
       "      <td>...</td>\n",
       "    </tr>\n",
       "    <tr>\n",
       "      <th>2448523</th>\n",
       "      <td>1357</td>\n",
       "      <td>2020-03-24</td>\n",
       "      <td>gt1l</td>\n",
       "      <td>High</td>\n",
       "      <td>5.892009</td>\n",
       "      <td>53.508791</td>\n",
       "      <td>39.567448</td>\n",
       "      <td>0.144328</td>\n",
       "    </tr>\n",
       "    <tr>\n",
       "      <th>2448524</th>\n",
       "      <td>1357</td>\n",
       "      <td>2020-03-24</td>\n",
       "      <td>gt1l</td>\n",
       "      <td>High</td>\n",
       "      <td>5.892008</td>\n",
       "      <td>53.508798</td>\n",
       "      <td>39.205154</td>\n",
       "      <td>0.144328</td>\n",
       "    </tr>\n",
       "    <tr>\n",
       "      <th>2448525</th>\n",
       "      <td>1357</td>\n",
       "      <td>2020-03-24</td>\n",
       "      <td>gt1l</td>\n",
       "      <td>High</td>\n",
       "      <td>5.892007</td>\n",
       "      <td>53.508804</td>\n",
       "      <td>39.256588</td>\n",
       "      <td>0.144328</td>\n",
       "    </tr>\n",
       "    <tr>\n",
       "      <th>2448526</th>\n",
       "      <td>1357</td>\n",
       "      <td>2020-03-24</td>\n",
       "      <td>gt1l</td>\n",
       "      <td>High</td>\n",
       "      <td>5.892003</td>\n",
       "      <td>53.508830</td>\n",
       "      <td>39.418655</td>\n",
       "      <td>0.144328</td>\n",
       "    </tr>\n",
       "    <tr>\n",
       "      <th>2448527</th>\n",
       "      <td>1357</td>\n",
       "      <td>2020-03-24</td>\n",
       "      <td>gt1l</td>\n",
       "      <td>High</td>\n",
       "      <td>5.892002</td>\n",
       "      <td>53.508836</td>\n",
       "      <td>39.111744</td>\n",
       "      <td>0.144328</td>\n",
       "    </tr>\n",
       "  </tbody>\n",
       "</table>\n",
       "<p>2448528 rows × 8 columns</p>\n",
       "</div>"
      ],
      "text/plain": [
       "        track_id        date  beam series       lon        lat          h  \\\n",
       "0            252  2019-01-13  gt3r  Noise  5.824986  53.490235  18.572187   \n",
       "1            252  2019-01-13  gt3r  Noise  5.824943  53.489975  17.784880   \n",
       "2            252  2019-01-13  gt3r  Noise  5.824911  53.489753  91.943270   \n",
       "3            252  2019-01-13  gt3r  Noise  5.824727  53.488632  66.256035   \n",
       "4            252  2019-01-13  gt3r  Noise  5.824203  53.485430  78.600680   \n",
       "...          ...         ...   ...    ...       ...        ...        ...   \n",
       "2448523     1357  2020-03-24  gt1l   High  5.892009  53.508791  39.567448   \n",
       "2448524     1357  2020-03-24  gt1l   High  5.892008  53.508798  39.205154   \n",
       "2448525     1357  2020-03-24  gt1l   High  5.892007  53.508804  39.256588   \n",
       "2448526     1357  2020-03-24  gt1l   High  5.892003  53.508830  39.418655   \n",
       "2448527     1357  2020-03-24  gt1l   High  5.892002  53.508836  39.111744   \n",
       "\n",
       "         water_occurrence  \n",
       "0                0.147138  \n",
       "1                0.147032  \n",
       "2                0.146992  \n",
       "3                0.146083  \n",
       "4                0.147541  \n",
       "...                   ...  \n",
       "2448523          0.144328  \n",
       "2448524          0.144328  \n",
       "2448525          0.144328  \n",
       "2448526          0.144328  \n",
       "2448527          0.144328  \n",
       "\n",
       "[2448528 rows x 8 columns]"
      ]
     },
     "execution_count": 33,
     "metadata": {},
     "output_type": "execute_result"
    }
   ],
   "source": [
    "df2"
   ]
  },
  {
   "cell_type": "code",
   "execution_count": 34,
   "metadata": {},
   "outputs": [
    {
     "data": {
      "text/plain": [
       "array(['gt3r', 'gt3l', nan, 'gt2r', 'gt2l', 'gt1r', 'gt1l'], dtype=object)"
      ]
     },
     "execution_count": 34,
     "metadata": {},
     "output_type": "execute_result"
    }
   ],
   "source": [
    "df2.beam.unique()"
   ]
  },
  {
   "cell_type": "code",
   "execution_count": 35,
   "metadata": {},
   "outputs": [
    {
     "data": {
      "text/plain": [
       "array(['252', nan, '412', '694', '1357'], dtype=object)"
      ]
     },
     "execution_count": 35,
     "metadata": {},
     "output_type": "execute_result"
    }
   ],
   "source": [
    "tracks = df.track_id.unique()\n",
    "tracks"
   ]
  },
  {
   "cell_type": "code",
   "execution_count": 36,
   "metadata": {},
   "outputs": [
    {
     "name": "stdout",
     "output_type": "stream",
     "text": [
      "252 ['2019-01-13' '2019-04-14']\n",
      "nan []\n",
      "412 ['2018-10-25' '2019-01-24' '2019-04-25' '2019-10-23' '2020-01-22']\n",
      "694 ['2019-02-11' '2019-05-13' '2019-08-12' '2019-11-11' '2020-02-10']\n",
      "1357 ['2018-12-26' '2019-03-27' '2019-06-26' '2019-09-24' '2019-12-24'\n",
      " '2020-03-24']\n"
     ]
    }
   ],
   "source": [
    "for t in tracks:\n",
    "    print(t, df[df.track_id == t].date.unique())"
   ]
  },
  {
   "cell_type": "code",
   "execution_count": 37,
   "metadata": {},
   "outputs": [
    {
     "data": {
      "text/plain": [
       "array(['2019-01-13', nan, '2019-04-14', '2018-10-25', '2019-01-24',\n",
       "       '2019-04-25', '2019-10-23', '2020-01-22', '2019-02-11',\n",
       "       '2019-05-13', '2019-08-12', '2019-11-11', '2020-02-10',\n",
       "       '2018-12-26', '2019-03-27', '2019-06-26', '2019-09-24',\n",
       "       '2019-12-24', '2020-03-24'], dtype=object)"
      ]
     },
     "execution_count": 37,
     "metadata": {},
     "output_type": "execute_result"
    }
   ],
   "source": [
    "df.date.unique()"
   ]
  },
  {
   "cell_type": "code",
   "execution_count": null,
   "metadata": {},
   "outputs": [],
   "source": []
  },
  {
   "cell_type": "code",
   "execution_count": 38,
   "metadata": {},
   "outputs": [
    {
     "name": "stderr",
     "output_type": "stream",
     "text": [
      "C:\\opt\\Miniconda3\\envs\\work\\lib\\site-packages\\tqdm\\std.py:658: FutureWarning: The Panel class is removed from pandas. Accessing it from the top-level namespace will also be removed in the next version\n",
      "  from pandas import Panel\n"
     ]
    }
   ],
   "source": [
    "tqdm.pandas()"
   ]
  },
  {
   "cell_type": "code",
   "execution_count": 39,
   "metadata": {},
   "outputs": [
    {
     "data": {
      "application/vnd.jupyter.widget-view+json": {
       "model_id": "4a61dd413b1d45d4af984190fa5cfe3c",
       "version_major": 2,
       "version_minor": 0
      },
      "text/plain": [
       "HBox(children=(FloatProgress(value=0.0, max=2448528.0), HTML(value='')))"
      ]
     },
     "metadata": {},
     "output_type": "display_data"
    },
    {
     "name": "stdout",
     "output_type": "stream",
     "text": [
      "\n"
     ]
    }
   ],
   "source": [
    "# hmin = 45\n",
    "# hmax = 49\n",
    "# df3 = df[(df.h > hmin) & (df.h < hmax)].copy()\n",
    "df3 = df\n",
    "\n",
    "df3['filter'] = df3.progress_apply(lambda row: f\"{row['track_id']}, {row['beam']}, {row['series']}\", axis=1).values\n"
   ]
  },
  {
   "cell_type": "code",
   "execution_count": 258,
   "metadata": {},
   "outputs": [
    {
     "data": {
      "text/html": [
       "<div>\n",
       "<style scoped>\n",
       "    .dataframe tbody tr th:only-of-type {\n",
       "        vertical-align: middle;\n",
       "    }\n",
       "\n",
       "    .dataframe tbody tr th {\n",
       "        vertical-align: top;\n",
       "    }\n",
       "\n",
       "    .dataframe thead th {\n",
       "        text-align: right;\n",
       "    }\n",
       "</style>\n",
       "<table border=\"1\" class=\"dataframe\">\n",
       "  <thead>\n",
       "    <tr style=\"text-align: right;\">\n",
       "      <th></th>\n",
       "      <th>track_id</th>\n",
       "      <th>date</th>\n",
       "      <th>beam</th>\n",
       "      <th>series</th>\n",
       "      <th>lon</th>\n",
       "      <th>lat</th>\n",
       "      <th>h</th>\n",
       "      <th>water_occurrence</th>\n",
       "      <th>filter</th>\n",
       "    </tr>\n",
       "  </thead>\n",
       "  <tbody>\n",
       "    <tr>\n",
       "      <th>0</th>\n",
       "      <td>252</td>\n",
       "      <td>2019-01-13</td>\n",
       "      <td>gt3r</td>\n",
       "      <td>Noise</td>\n",
       "      <td>5.824986</td>\n",
       "      <td>53.490235</td>\n",
       "      <td>18.572187</td>\n",
       "      <td>0.147138</td>\n",
       "      <td>252, gt3r, Noise</td>\n",
       "    </tr>\n",
       "    <tr>\n",
       "      <th>1</th>\n",
       "      <td>252</td>\n",
       "      <td>2019-01-13</td>\n",
       "      <td>gt3r</td>\n",
       "      <td>Noise</td>\n",
       "      <td>5.824943</td>\n",
       "      <td>53.489975</td>\n",
       "      <td>17.784880</td>\n",
       "      <td>0.147032</td>\n",
       "      <td>252, gt3r, Noise</td>\n",
       "    </tr>\n",
       "    <tr>\n",
       "      <th>2</th>\n",
       "      <td>252</td>\n",
       "      <td>2019-01-13</td>\n",
       "      <td>gt3r</td>\n",
       "      <td>Noise</td>\n",
       "      <td>5.824911</td>\n",
       "      <td>53.489753</td>\n",
       "      <td>91.943270</td>\n",
       "      <td>0.146992</td>\n",
       "      <td>252, gt3r, Noise</td>\n",
       "    </tr>\n",
       "    <tr>\n",
       "      <th>3</th>\n",
       "      <td>252</td>\n",
       "      <td>2019-01-13</td>\n",
       "      <td>gt3r</td>\n",
       "      <td>Noise</td>\n",
       "      <td>5.824727</td>\n",
       "      <td>53.488632</td>\n",
       "      <td>66.256035</td>\n",
       "      <td>0.146083</td>\n",
       "      <td>252, gt3r, Noise</td>\n",
       "    </tr>\n",
       "    <tr>\n",
       "      <th>4</th>\n",
       "      <td>252</td>\n",
       "      <td>2019-01-13</td>\n",
       "      <td>gt3r</td>\n",
       "      <td>Noise</td>\n",
       "      <td>5.824203</td>\n",
       "      <td>53.485430</td>\n",
       "      <td>78.600680</td>\n",
       "      <td>0.147541</td>\n",
       "      <td>252, gt3r, Noise</td>\n",
       "    </tr>\n",
       "    <tr>\n",
       "      <th>...</th>\n",
       "      <td>...</td>\n",
       "      <td>...</td>\n",
       "      <td>...</td>\n",
       "      <td>...</td>\n",
       "      <td>...</td>\n",
       "      <td>...</td>\n",
       "      <td>...</td>\n",
       "      <td>...</td>\n",
       "      <td>...</td>\n",
       "    </tr>\n",
       "    <tr>\n",
       "      <th>2448523</th>\n",
       "      <td>1357</td>\n",
       "      <td>2020-03-24</td>\n",
       "      <td>gt1l</td>\n",
       "      <td>High</td>\n",
       "      <td>5.892009</td>\n",
       "      <td>53.508791</td>\n",
       "      <td>39.567448</td>\n",
       "      <td>0.144328</td>\n",
       "      <td>1357, gt1l, High</td>\n",
       "    </tr>\n",
       "    <tr>\n",
       "      <th>2448524</th>\n",
       "      <td>1357</td>\n",
       "      <td>2020-03-24</td>\n",
       "      <td>gt1l</td>\n",
       "      <td>High</td>\n",
       "      <td>5.892008</td>\n",
       "      <td>53.508798</td>\n",
       "      <td>39.205154</td>\n",
       "      <td>0.144328</td>\n",
       "      <td>1357, gt1l, High</td>\n",
       "    </tr>\n",
       "    <tr>\n",
       "      <th>2448525</th>\n",
       "      <td>1357</td>\n",
       "      <td>2020-03-24</td>\n",
       "      <td>gt1l</td>\n",
       "      <td>High</td>\n",
       "      <td>5.892007</td>\n",
       "      <td>53.508804</td>\n",
       "      <td>39.256588</td>\n",
       "      <td>0.144328</td>\n",
       "      <td>1357, gt1l, High</td>\n",
       "    </tr>\n",
       "    <tr>\n",
       "      <th>2448526</th>\n",
       "      <td>1357</td>\n",
       "      <td>2020-03-24</td>\n",
       "      <td>gt1l</td>\n",
       "      <td>High</td>\n",
       "      <td>5.892003</td>\n",
       "      <td>53.508830</td>\n",
       "      <td>39.418655</td>\n",
       "      <td>0.144328</td>\n",
       "      <td>1357, gt1l, High</td>\n",
       "    </tr>\n",
       "    <tr>\n",
       "      <th>2448527</th>\n",
       "      <td>1357</td>\n",
       "      <td>2020-03-24</td>\n",
       "      <td>gt1l</td>\n",
       "      <td>High</td>\n",
       "      <td>5.892002</td>\n",
       "      <td>53.508836</td>\n",
       "      <td>39.111744</td>\n",
       "      <td>0.144328</td>\n",
       "      <td>1357, gt1l, High</td>\n",
       "    </tr>\n",
       "  </tbody>\n",
       "</table>\n",
       "<p>2448528 rows × 9 columns</p>\n",
       "</div>"
      ],
      "text/plain": [
       "        track_id        date  beam series       lon        lat          h  \\\n",
       "0            252  2019-01-13  gt3r  Noise  5.824986  53.490235  18.572187   \n",
       "1            252  2019-01-13  gt3r  Noise  5.824943  53.489975  17.784880   \n",
       "2            252  2019-01-13  gt3r  Noise  5.824911  53.489753  91.943270   \n",
       "3            252  2019-01-13  gt3r  Noise  5.824727  53.488632  66.256035   \n",
       "4            252  2019-01-13  gt3r  Noise  5.824203  53.485430  78.600680   \n",
       "...          ...         ...   ...    ...       ...        ...        ...   \n",
       "2448523     1357  2020-03-24  gt1l   High  5.892009  53.508791  39.567448   \n",
       "2448524     1357  2020-03-24  gt1l   High  5.892008  53.508798  39.205154   \n",
       "2448525     1357  2020-03-24  gt1l   High  5.892007  53.508804  39.256588   \n",
       "2448526     1357  2020-03-24  gt1l   High  5.892003  53.508830  39.418655   \n",
       "2448527     1357  2020-03-24  gt1l   High  5.892002  53.508836  39.111744   \n",
       "\n",
       "         water_occurrence            filter  \n",
       "0                0.147138  252, gt3r, Noise  \n",
       "1                0.147032  252, gt3r, Noise  \n",
       "2                0.146992  252, gt3r, Noise  \n",
       "3                0.146083  252, gt3r, Noise  \n",
       "4                0.147541  252, gt3r, Noise  \n",
       "...                   ...               ...  \n",
       "2448523          0.144328  1357, gt1l, High  \n",
       "2448524          0.144328  1357, gt1l, High  \n",
       "2448525          0.144328  1357, gt1l, High  \n",
       "2448526          0.144328  1357, gt1l, High  \n",
       "2448527          0.144328  1357, gt1l, High  \n",
       "\n",
       "[2448528 rows x 9 columns]"
      ]
     },
     "execution_count": 258,
     "metadata": {},
     "output_type": "execute_result"
    }
   ],
   "source": [
    "df3"
   ]
  },
  {
   "cell_type": "code",
   "execution_count": 43,
   "metadata": {},
   "outputs": [],
   "source": [
    "filters = df3.sort_values(['track_id', 'beam', 'series'])['filter'].drop_duplicates().values\n"
   ]
  },
  {
   "cell_type": "code",
   "execution_count": 57,
   "metadata": {},
   "outputs": [],
   "source": [
    "filters = [f for f in filters if 'High' in f]"
   ]
  },
  {
   "cell_type": "code",
   "execution_count": 58,
   "metadata": {},
   "outputs": [
    {
     "data": {
      "text/plain": [
       "['1357, gt1l, High',\n",
       " '1357, gt1r, High',\n",
       " '1357, gt2l, High',\n",
       " '1357, gt2r, High',\n",
       " '1357, gt3l, High',\n",
       " '1357, gt3r, High',\n",
       " '252, gt1l, High',\n",
       " '252, gt1r, High',\n",
       " '252, gt2l, High',\n",
       " '252, gt2r, High',\n",
       " '252, gt3l, High',\n",
       " '252, gt3r, High',\n",
       " '412, gt1l, High',\n",
       " '412, gt1r, High',\n",
       " '412, gt2l, High',\n",
       " '412, gt2r, High',\n",
       " '412, gt3l, High',\n",
       " '412, gt3r, High',\n",
       " '694, gt1l, High',\n",
       " '694, gt1r, High',\n",
       " '694, gt2l, High',\n",
       " '694, gt2r, High',\n",
       " '694, gt3l, High',\n",
       " '694, gt3r, High']"
      ]
     },
     "execution_count": 58,
     "metadata": {},
     "output_type": "execute_result"
    }
   ],
   "source": [
    "filters"
   ]
  },
  {
   "cell_type": "code",
   "execution_count": 40,
   "metadata": {},
   "outputs": [
    {
     "data": {
      "text/plain": [
       "Index(['track_id', 'date', 'beam', 'series', 'lon', 'lat', 'h',\n",
       "       'water_occurrence', 'filter'],\n",
       "      dtype='object')"
      ]
     },
     "execution_count": 40,
     "metadata": {},
     "output_type": "execute_result"
    }
   ],
   "source": [
    "df.columns"
   ]
  },
  {
   "cell_type": "code",
   "execution_count": 62,
   "metadata": {},
   "outputs": [
    {
     "data": {
      "application/vnd.jupyter.widget-view+json": {
       "model_id": "382248249f954c92989b2ba32d5eaa46",
       "version_major": 2,
       "version_minor": 0
      },
      "text/plain": [
       "interactive(children=(Dropdown(description='f', options=('1357, gt1l, High', '1357, gt1r, High', '1357, gt2l, …"
      ]
     },
     "metadata": {},
     "output_type": "display_data"
    }
   ],
   "source": [
    "hmin = 38\n",
    "hmax = 44\n",
    "\n",
    "df3 = df[(df.series != 'Noise') & (df.series != 'Medium')]\n",
    "df3 = df3[(df3.h > hmin) & (df3.h < hmax)]\n",
    "\n",
    "\n",
    "\n",
    "@interact(f=filters)\n",
    "def show(f=filters[0]):\n",
    "    plt.close('all')\n",
    "    fig, ax = plt.subplots(figsize=(13, 5))\n",
    "\n",
    "    # draw all\n",
    "    ax.plot(df3.water_occurrence, df3.h, 'k.', markersize=0.5, alpha=0.1)\n",
    "\n",
    "    # draw only specific track/beam/series\n",
    "    df4 = df3[df3['filter'] == f]\n",
    "    ax.plot(df4.water_occurrence, df4.h, 'r.', markersize=1, alpha=0.1)\n",
    "\n",
    "    ax.set_xlabel('water occurrence')\n",
    "    ax.set_ylabel('elevation (ICESat-2)')\n",
    "    plt.tight_layout()"
   ]
  }
 ],
 "metadata": {
  "kernelspec": {
   "display_name": "Python 3.7.6 64-bit ('work': conda)",
   "language": "python",
   "name": "python37664bitworkconda29122c767d534363a90db6310bbb639d"
  },
  "language_info": {
   "codemirror_mode": {
    "name": "ipython",
    "version": 3
   },
   "file_extension": ".py",
   "mimetype": "text/x-python",
   "name": "python",
   "nbconvert_exporter": "python",
   "pygments_lexer": "ipython3",
   "version": "3.7.6"
  }
 },
 "nbformat": 4,
 "nbformat_minor": 4
}
