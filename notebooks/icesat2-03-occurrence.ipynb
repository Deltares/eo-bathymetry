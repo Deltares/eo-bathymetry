{
 "cells": [
  {
   "cell_type": "code",
   "execution_count": 46,
   "metadata": {},
   "outputs": [],
   "source": [
    "%matplotlib widget\n",
    "# %matplotlib inline\n",
    "# %matplotlib qt \n",
    "\n",
    "import matplotlib.pyplot as plt\n",
    "import pandas as pd\n",
    "import numpy as np\n",
    "import folium\n",
    "import geopandas as gpd\n",
    "from shapely.geometry import shape, GeometryCollection\n",
    "from pyproj import CRS\n",
    "from tqdm.notebook import tqdm\n",
    "from tqdm import trange\n",
    "\n",
    "import ee\n",
    "ee.Initialize()\n",
    "\n",
    "import geemap.eefolium as emap\n",
    "create_map = lambda: emap.Map()"
   ]
  },
  {
   "cell_type": "code",
   "execution_count": 3,
   "metadata": {},
   "outputs": [],
   "source": [
    "df = pd.read_parquet('../data/out/icesat-2-DK.parquet')"
   ]
  },
  {
   "cell_type": "markdown",
   "metadata": {},
   "source": [
    "## Query water occurrence values for all ICESat-2 points"
   ]
  },
  {
   "cell_type": "code",
   "execution_count": 10,
   "metadata": {},
   "outputs": [],
   "source": [
    "image = ee.Image('users/gena/eo-bathymetry/NDWI/NDWI-4521-v9')"
   ]
  },
  {
   "cell_type": "code",
   "execution_count": 5,
   "metadata": {},
   "outputs": [
    {
     "name": "stdout",
     "output_type": "stream",
     "text": [
      "{'water_score_max': 0.15000000000000024, 'water_score_min': -0.10000000000000006}\n"
     ]
    }
   ],
   "source": [
    "print(image.reduceRegion(reducer=ee.Reducer.minMax(), geometry=image.geometry(), scale=90).getInfo())"
   ]
  },
  {
   "cell_type": "code",
   "execution_count": 30,
   "metadata": {},
   "outputs": [
    {
     "data": {
      "text/plain": [
       "Index(['track_id', 'date', 'beam', 'series', 'h', 'lon', 'lat'], dtype='object')"
      ]
     },
     "execution_count": 30,
     "metadata": {},
     "output_type": "execute_result"
    }
   ],
   "source": [
    "df.columns"
   ]
  },
  {
   "cell_type": "code",
   "execution_count": 62,
   "metadata": {},
   "outputs": [
    {
     "data": {
      "text/plain": [
       "array(['Noise', 'Buffer', 'Low', 'Medium', 'High'], dtype=object)"
      ]
     },
     "execution_count": 62,
     "metadata": {},
     "output_type": "execute_result"
    }
   ],
   "source": [
    "df.series.unique()"
   ]
  },
  {
   "cell_type": "code",
   "execution_count": 5,
   "metadata": {},
   "outputs": [],
   "source": [
    "BATCH_SIZE = 15000 # fails after ~90k"
   ]
  },
  {
   "cell_type": "code",
   "execution_count": 6,
   "metadata": {},
   "outputs": [
    {
     "data": {
      "text/plain": [
       "372"
      ]
     },
     "execution_count": 6,
     "metadata": {},
     "output_type": "execute_result"
    }
   ],
   "source": [
    "len(df) // BATCH_SIZE"
   ]
  },
  {
   "cell_type": "code",
   "execution_count": 32,
   "metadata": {},
   "outputs": [],
   "source": [
    "# df2 = df_high.iloc[:BATCH_SIZE,:]"
   ]
  },
  {
   "cell_type": "code",
   "execution_count": 84,
   "metadata": {},
   "outputs": [],
   "source": [
    "# df2 = df.sample(n=BATCH_SIZE)"
   ]
  },
  {
   "cell_type": "code",
   "execution_count": 278,
   "metadata": {},
   "outputs": [],
   "source": [
    "# extent = [8.46, 55.26, 8.63, 55.36]\n",
    "extent = [8.46, 55.36, 8.62, 55.42]\n",
    "\n",
    "df2 = df[(df.lon > extent[0]) & (df.lon < extent[2]) & (df.lat > extent[1]) & (df.lat < extent[3])]\n",
    "df2 = df2[(df2.series != 'Noise')]\n",
    "df2 = df2.copy()"
   ]
  },
  {
   "cell_type": "code",
   "execution_count": 279,
   "metadata": {},
   "outputs": [
    {
     "data": {
      "text/plain": [
       "87904"
      ]
     },
     "execution_count": 279,
     "metadata": {},
     "output_type": "execute_result"
    }
   ],
   "source": [
    "len(df2)"
   ]
  },
  {
   "cell_type": "code",
   "execution_count": 281,
   "metadata": {},
   "outputs": [],
   "source": [
    "coords = list(zip(df2.lon, df2.lat))"
   ]
  },
  {
   "cell_type": "code",
   "execution_count": 282,
   "metadata": {},
   "outputs": [
    {
     "data": {
      "text/html": [
       "<div style=\"width:100%;\"><div style=\"position:relative;width:100%;height:0;padding-bottom:60%;\"><iframe src=\"data:text/html;charset=utf-8;base64,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\" style=\"position:absolute;width:100%;height:100%;left:0;top:0;border:none !important;\" allowfullscreen webkitallowfullscreen mozallowfullscreen></iframe></div></div>"
      ],
      "text/plain": [
       "<geemap.eefolium.Map at 0x20535883148>"
      ]
     },
     "execution_count": 282,
     "metadata": {},
     "output_type": "execute_result"
    }
   ],
   "source": [
    "g = ee.Geometry.MultiPoint(coords) # visualize using multi-point instead of feature collection - faster\n",
    "pointsRGB = ee.FeatureCollection(g).style(pointSize=2, color='00000000', fillColor='ffeda0')\n",
    "pointsRGB = pointsRGB.select(0).mask().focal_max(3).selfMask().visualize(palette=['000000'], opacity=0.5).blend(pointsRGB)\n",
    "\n",
    "m = create_map()\n",
    "m.addLayer(image.updateMask(image.gt(-0.09)), { 'min': -0.10, 'max': 0.15, 'palette': ['lightblue', 'black'] }, 'water occurrence')\n",
    "m.addLayer(pointsRGB, {}, 'sampled points')\n",
    "m.setCenter(8.5199, 55.3184, 11)\n",
    "m.addLayerControl()\n",
    "m"
   ]
  },
  {
   "cell_type": "code",
   "execution_count": 283,
   "metadata": {},
   "outputs": [
    {
     "data": {
      "text/plain": [
       "87904"
      ]
     },
     "execution_count": 283,
     "metadata": {},
     "output_type": "execute_result"
    }
   ],
   "source": [
    "features = ee.List(coords).map(lambda o: ee.Feature(ee.Geometry.Point(coords=o)))\n",
    "features = ee.FeatureCollection(features)\n",
    "features.size().getInfo()"
   ]
  },
  {
   "cell_type": "code",
   "execution_count": 284,
   "metadata": {},
   "outputs": [],
   "source": [
    "values = image.reduceRegions(collection=features, reducer=ee.Reducer.first().setOutputs(['water_occurrence']), scale=10)\n",
    "results = values.aggregate_array('water_occurrence').getInfo()"
   ]
  },
  {
   "cell_type": "code",
   "execution_count": 285,
   "metadata": {},
   "outputs": [
    {
     "data": {
      "text/plain": [
       "87904"
      ]
     },
     "execution_count": 285,
     "metadata": {},
     "output_type": "execute_result"
    }
   ],
   "source": [
    "len(results)"
   ]
  },
  {
   "cell_type": "code",
   "execution_count": 286,
   "metadata": {},
   "outputs": [],
   "source": [
    "df2['water_occurrence'] = results"
   ]
  },
  {
   "cell_type": "code",
   "execution_count": 255,
   "metadata": {},
   "outputs": [
    {
     "data": {
      "application/vnd.jupyter.widget-view+json": {
       "model_id": "da5750e2955f441d9cd166542a6d3f6b",
       "version_major": 2,
       "version_minor": 0
      },
      "text/plain": [
       "Canvas(toolbar=Toolbar(toolitems=[('Home', 'Reset original view', 'home', 'home'), ('Back', 'Back to previous …"
      ]
     },
     "metadata": {},
     "output_type": "display_data"
    }
   ],
   "source": [
    "# plt.close('all')\n",
    "fig, ax = plt.subplots(figsize=(10, 3))\n",
    "hmin = 40\n",
    "hmax = 42.5\n",
    "df3 = df2[(df2.h > hmin) & (df2.h < hmax)]\n",
    "\n",
    "df4 = df3[df3.series == 'High']\n",
    "ax.plot(df4.water_occurrence, df4.h, 'k.', markersize=0.5, alpha=0.2)\n",
    "\n",
    "df4 = df3[df3.series == 'Medium']\n",
    "ax.plot(df4.water_occurrence, df4.h, 'r.', markersize=1)\n",
    "\n",
    "df4 = df3[df3.series == 'Buffer']\n",
    "ax.plot(df4.water_occurrence, df4.h, 'b.', markersize=1)\n",
    "\n",
    "ax.set_xlabel('water occurrence')\n",
    "ax.set_ylabel('elevation (ICESat-2)')\n",
    "plt.tight_layout()"
   ]
  },
  {
   "cell_type": "code",
   "execution_count": 288,
   "metadata": {},
   "outputs": [
    {
     "data": {
      "text/html": [
       "<div>\n",
       "<style scoped>\n",
       "    .dataframe tbody tr th:only-of-type {\n",
       "        vertical-align: middle;\n",
       "    }\n",
       "\n",
       "    .dataframe tbody tr th {\n",
       "        vertical-align: top;\n",
       "    }\n",
       "\n",
       "    .dataframe thead th {\n",
       "        text-align: right;\n",
       "    }\n",
       "</style>\n",
       "<table border=\"1\" class=\"dataframe\">\n",
       "  <thead>\n",
       "    <tr style=\"text-align: right;\">\n",
       "      <th></th>\n",
       "      <th>track_id</th>\n",
       "      <th>date</th>\n",
       "      <th>beam</th>\n",
       "      <th>series</th>\n",
       "      <th>h</th>\n",
       "      <th>lon</th>\n",
       "      <th>lat</th>\n",
       "      <th>water_occurrence</th>\n",
       "    </tr>\n",
       "  </thead>\n",
       "  <tbody>\n",
       "    <tr>\n",
       "      <th>428</th>\n",
       "      <td>69</td>\n",
       "      <td>2019-01-01</td>\n",
       "      <td>gt3r</td>\n",
       "      <td>Buffer</td>\n",
       "      <td>50.817707</td>\n",
       "      <td>8.479082</td>\n",
       "      <td>55.377421</td>\n",
       "      <td>0.055138</td>\n",
       "    </tr>\n",
       "    <tr>\n",
       "      <th>429</th>\n",
       "      <td>69</td>\n",
       "      <td>2019-01-01</td>\n",
       "      <td>gt3r</td>\n",
       "      <td>Buffer</td>\n",
       "      <td>27.737589</td>\n",
       "      <td>8.478205</td>\n",
       "      <td>55.372444</td>\n",
       "      <td>0.036981</td>\n",
       "    </tr>\n",
       "    <tr>\n",
       "      <th>461</th>\n",
       "      <td>69</td>\n",
       "      <td>2019-01-01</td>\n",
       "      <td>gt3r</td>\n",
       "      <td>Low</td>\n",
       "      <td>36.980545</td>\n",
       "      <td>8.486457</td>\n",
       "      <td>55.419794</td>\n",
       "      <td>0.150000</td>\n",
       "    </tr>\n",
       "    <tr>\n",
       "      <th>462</th>\n",
       "      <td>69</td>\n",
       "      <td>2019-01-01</td>\n",
       "      <td>gt3r</td>\n",
       "      <td>Low</td>\n",
       "      <td>32.487840</td>\n",
       "      <td>8.484553</td>\n",
       "      <td>55.408769</td>\n",
       "      <td>0.150000</td>\n",
       "    </tr>\n",
       "    <tr>\n",
       "      <th>463</th>\n",
       "      <td>69</td>\n",
       "      <td>2019-01-01</td>\n",
       "      <td>gt3r</td>\n",
       "      <td>Low</td>\n",
       "      <td>50.159325</td>\n",
       "      <td>8.483429</td>\n",
       "      <td>55.402300</td>\n",
       "      <td>0.136790</td>\n",
       "    </tr>\n",
       "    <tr>\n",
       "      <th>...</th>\n",
       "      <td>...</td>\n",
       "      <td>...</td>\n",
       "      <td>...</td>\n",
       "      <td>...</td>\n",
       "      <td>...</td>\n",
       "      <td>...</td>\n",
       "      <td>...</td>\n",
       "      <td>...</td>\n",
       "    </tr>\n",
       "    <tr>\n",
       "      <th>5362765</th>\n",
       "      <td>1113</td>\n",
       "      <td>2019-12-08</td>\n",
       "      <td>gt1l</td>\n",
       "      <td>High</td>\n",
       "      <td>41.340310</td>\n",
       "      <td>8.486460</td>\n",
       "      <td>55.419846</td>\n",
       "      <td>0.150000</td>\n",
       "    </tr>\n",
       "    <tr>\n",
       "      <th>5362766</th>\n",
       "      <td>1113</td>\n",
       "      <td>2019-12-08</td>\n",
       "      <td>gt1l</td>\n",
       "      <td>High</td>\n",
       "      <td>41.397920</td>\n",
       "      <td>8.486443</td>\n",
       "      <td>55.419942</td>\n",
       "      <td>0.150000</td>\n",
       "    </tr>\n",
       "    <tr>\n",
       "      <th>5362767</th>\n",
       "      <td>1113</td>\n",
       "      <td>2019-12-08</td>\n",
       "      <td>gt1l</td>\n",
       "      <td>High</td>\n",
       "      <td>41.401497</td>\n",
       "      <td>8.486439</td>\n",
       "      <td>55.419961</td>\n",
       "      <td>0.150000</td>\n",
       "    </tr>\n",
       "    <tr>\n",
       "      <th>5362768</th>\n",
       "      <td>1113</td>\n",
       "      <td>2019-12-08</td>\n",
       "      <td>gt1l</td>\n",
       "      <td>High</td>\n",
       "      <td>41.593582</td>\n",
       "      <td>8.486438</td>\n",
       "      <td>55.419967</td>\n",
       "      <td>0.150000</td>\n",
       "    </tr>\n",
       "    <tr>\n",
       "      <th>5362769</th>\n",
       "      <td>1113</td>\n",
       "      <td>2019-12-08</td>\n",
       "      <td>gt1l</td>\n",
       "      <td>High</td>\n",
       "      <td>41.547844</td>\n",
       "      <td>8.486433</td>\n",
       "      <td>55.419999</td>\n",
       "      <td>0.150000</td>\n",
       "    </tr>\n",
       "  </tbody>\n",
       "</table>\n",
       "<p>87904 rows × 8 columns</p>\n",
       "</div>"
      ],
      "text/plain": [
       "        track_id        date  beam  series          h       lon        lat  \\\n",
       "428           69  2019-01-01  gt3r  Buffer  50.817707  8.479082  55.377421   \n",
       "429           69  2019-01-01  gt3r  Buffer  27.737589  8.478205  55.372444   \n",
       "461           69  2019-01-01  gt3r     Low  36.980545  8.486457  55.419794   \n",
       "462           69  2019-01-01  gt3r     Low  32.487840  8.484553  55.408769   \n",
       "463           69  2019-01-01  gt3r     Low  50.159325  8.483429  55.402300   \n",
       "...          ...         ...   ...     ...        ...       ...        ...   \n",
       "5362765     1113  2019-12-08  gt1l    High  41.340310  8.486460  55.419846   \n",
       "5362766     1113  2019-12-08  gt1l    High  41.397920  8.486443  55.419942   \n",
       "5362767     1113  2019-12-08  gt1l    High  41.401497  8.486439  55.419961   \n",
       "5362768     1113  2019-12-08  gt1l    High  41.593582  8.486438  55.419967   \n",
       "5362769     1113  2019-12-08  gt1l    High  41.547844  8.486433  55.419999   \n",
       "\n",
       "         water_occurrence  \n",
       "428              0.055138  \n",
       "429              0.036981  \n",
       "461              0.150000  \n",
       "462              0.150000  \n",
       "463              0.136790  \n",
       "...                   ...  \n",
       "5362765          0.150000  \n",
       "5362766          0.150000  \n",
       "5362767          0.150000  \n",
       "5362768          0.150000  \n",
       "5362769          0.150000  \n",
       "\n",
       "[87904 rows x 8 columns]"
      ]
     },
     "execution_count": 288,
     "metadata": {},
     "output_type": "execute_result"
    }
   ],
   "source": [
    "df2"
   ]
  },
  {
   "cell_type": "code",
   "execution_count": 292,
   "metadata": {},
   "outputs": [
    {
     "data": {
      "text/plain": [
       "array(['gt3r', 'gt3l', 'gt2r', 'gt2l', 'gt1r', 'gt1l'], dtype=object)"
      ]
     },
     "execution_count": 292,
     "metadata": {},
     "output_type": "execute_result"
    }
   ],
   "source": [
    "df2.beam.unique()"
   ]
  },
  {
   "cell_type": "code",
   "execution_count": 290,
   "metadata": {},
   "outputs": [
    {
     "data": {
      "text/plain": [
       "array(['69', '671', '1113'], dtype=object)"
      ]
     },
     "execution_count": 290,
     "metadata": {},
     "output_type": "execute_result"
    }
   ],
   "source": [
    "tracks = df2.track_id.unique()\n",
    "tracks"
   ]
  },
  {
   "cell_type": "code",
   "execution_count": 293,
   "metadata": {},
   "outputs": [
    {
     "name": "stdout",
     "output_type": "stream",
     "text": [
      "69 ['2019-01-01' '2019-04-02' '2019-10-01' '2019-12-31' '2020-03-31']\n",
      "671 ['2018-11-11' '2019-02-10' '2019-05-12' '2019-08-11' '2019-11-09'\n",
      " '2020-02-08']\n",
      "1113 ['2018-12-10' '2019-03-11' '2019-06-10' '2019-09-08' '2019-12-08'\n",
      " '2020-03-08']\n"
     ]
    }
   ],
   "source": [
    "for t in tracks:\n",
    "    print(t, df[df.track_id == t].date.unique())"
   ]
  },
  {
   "cell_type": "code",
   "execution_count": 291,
   "metadata": {},
   "outputs": [
    {
     "data": {
      "application/vnd.jupyter.widget-view+json": {
       "model_id": "1d613838d2b94991a5c1746ef63d93ea",
       "version_major": 2,
       "version_minor": 0
      },
      "text/plain": [
       "Canvas(toolbar=Toolbar(toolitems=[('Home', 'Reset original view', 'home', 'home'), ('Back', 'Back to previous …"
      ]
     },
     "metadata": {},
     "output_type": "display_data"
    }
   ],
   "source": [
    "# plt.close('all')\n",
    "fig, ax = plt.subplots(figsize=(10, 3))\n",
    "hmin = 39\n",
    "hmax = 44\n",
    "df3 = df2[(df2.h > hmin) & (df2.h < hmax)]\n",
    "\n",
    "\n",
    "df4 = df3[(df3.series == 'High') & (df3.track_id == '69')]\n",
    "ax.plot(df4.water_occurrence, df4.h, 'k.', markersize=0.5, alpha=0.2)\n",
    "\n",
    "df4 = df3[(df3.series == 'High') & (df3.track_id == '671')]\n",
    "ax.plot(df4.water_occurrence, df4.h, 'r.', markersize=0.5, alpha=0.2)\n",
    "\n",
    "df4 = df3[(df3.series == 'High') & (df3.track_id == '1113')]\n",
    "ax.plot(df4.water_occurrence, df4.h, 'b.', markersize=0.5, alpha=0.2)\n",
    "\n",
    "\n",
    "# df4 = df3[df3.series == 'Medium']\n",
    "# ax.plot(df4.water_occurrence, df4.h, 'r.', markersize=1)\n",
    "\n",
    "# df4 = df3[df3.series == 'Buffer']\n",
    "# ax.plot(df4.water_occurrence, df4.h, 'b.', markersize=1)\n",
    "\n",
    "ax.set_xlabel('water occurrence')\n",
    "ax.set_ylabel('elevation (ICESat-2)')\n",
    "plt.tight_layout()"
   ]
  }
 ],
 "metadata": {
  "kernelspec": {
   "display_name": "Python 3.7.6 64-bit ('work': conda)",
   "language": "python",
   "name": "python37664bitworkconda29122c767d534363a90db6310bbb639d"
  },
  "language_info": {
   "codemirror_mode": {
    "name": "ipython",
    "version": 3
   },
   "file_extension": ".py",
   "mimetype": "text/x-python",
   "name": "python",
   "nbconvert_exporter": "python",
   "pygments_lexer": "ipython3",
   "version": "3.7.6"
  }
 },
 "nbformat": 4,
 "nbformat_minor": 4
}
