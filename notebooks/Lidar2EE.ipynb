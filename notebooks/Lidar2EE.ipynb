{
 "cells": [
  {
   "cell_type": "code",
   "execution_count": 1,
   "metadata": {},
   "outputs": [],
   "source": [
    "%matplotlib inline\n",
    "\n",
    "import subprocess\n",
    "import itertools\n",
    "\n",
    "import numpy as np\n",
    "import requests\n",
    "import pytz\n",
    "import netCDF4\n",
    "from osgeo import gdal\n",
    "from os import path\n",
    "from osgeo.gdalconst import *\n",
    "from tqdm import tqdm\n",
    "from bs4 import BeautifulSoup\n"
   ]
  },
  {
   "cell_type": "code",
   "execution_count": 2,
   "metadata": {},
   "outputs": [],
   "source": [
    "url = 'http://opendap.deltares.nl/thredds/dodsC/opendap/rijkswaterstaat/kusthoogte/catalog.html'\n",
    "ext = 'nc'\n",
    "urls = []\n",
    "\n",
    "def listFD(url, ext=''):\n",
    "    page = requests.get(url).text\n",
    "    soup = BeautifulSoup(page, 'html.parser')\n",
    "    \n",
    "    return [url + '/' + node.get('href') for node in soup.find_all('a') if node.get('href').endswith(ext)]\n",
    "\n",
    "for ncfile in listFD(url, ext):\n",
    "    items = ncfile.split('/catalog.html/')\n",
    "    filename = items[1].split('/')[-1]\n",
    "    url = items[0] + '/' + filename\n",
    "    urls.append(url)"
   ]
  },
  {
   "cell_type": "code",
   "execution_count": 3,
   "metadata": {},
   "outputs": [
    {
     "name": "stderr",
     "output_type": "stream",
     "text": [
      "100%|████████████████████████████████████████| 220/220 [11:14<00:00,  5.60s/it]\n"
     ]
    }
   ],
   "source": [
    "grids = []\n",
    "for url in tqdm(urls[1:]):\n",
    "    ds = netCDF4.Dataset(url)\n",
    "    times = netCDF4.num2date(ds.variables['time'][:], ds.variables['time'].units)\n",
    "    local = pytz.timezone(\"Europe/Amsterdam\")\n",
    "    times = [local.localize(t, is_dst=None).astimezone(pytz.utc) for t in times]\n",
    "    arrs = []\n",
    "    z = ds.variables['z'][:]\n",
    "    x = ds.variables['x'][:]\n",
    "    y = ds.variables['y'][:]\n",
    "    \n",
    "    grids.append({\n",
    "        \"url\": url,\n",
    "        \"x\": x,\n",
    "        \"y\": y,\n",
    "        \"z\": z,\n",
    "        \"times\": times\n",
    "    })\n",
    "    ds.close()\n"
   ]
  },
  {
   "cell_type": "code",
   "execution_count": 6,
   "metadata": {},
   "outputs": [
    {
     "data": {
      "text/plain": [
       "2207"
      ]
     },
     "execution_count": 6,
     "metadata": {},
     "output_type": "execute_result"
    }
   ],
   "source": [
    "count = len(list(itertools.chain.from_iterable([g['times'] for g in grids])))\n",
    "count"
   ]
  },
  {
   "cell_type": "code",
   "execution_count": 7,
   "metadata": {},
   "outputs": [
    {
     "name": "stdout",
     "output_type": "stream",
     "text": [
      "[[-- -- -- ..., -- -- --]\n",
      " [-- -- -- ..., -- -- --]\n",
      " [-- -- -- ..., -- -- --]\n",
      " ..., \n",
      " [-- -- -- ..., -- -- --]\n",
      " [-- -- -- ..., -- -- --]\n",
      " [-- -- -- ..., -- -- --]]\n"
     ]
    }
   ],
   "source": [
    "print(grids[0]['z'][0])"
   ]
  },
  {
   "cell_type": "code",
   "execution_count": 8,
   "metadata": {},
   "outputs": [],
   "source": [
    "ee_collection_path = 'users/gena/eo-bathymetry/rws_lidar'"
   ]
  },
  {
   "cell_type": "code",
   "execution_count": 9,
   "metadata": {},
   "outputs": [],
   "source": [
    "def run(cmd):\n",
    "    # print(cmd)\n",
    "    subprocess.call(cmd)"
   ]
  },
  {
   "cell_type": "code",
   "execution_count": 10,
   "metadata": {},
   "outputs": [
    {
     "name": "stderr",
     "output_type": "stream",
     "text": [
      "  7%|██▍                                | 15/220 [1:23:35<34:40:14, 608.85s/it]"
     ]
    },
    {
     "ename": "KeyboardInterrupt",
     "evalue": "",
     "output_type": "error",
     "traceback": [
      "\u001b[0;31m---------------------------------------------------------------------------\u001b[0m",
      "\u001b[0;31mKeyboardInterrupt\u001b[0m                         Traceback (most recent call last)",
      "\u001b[0;32m<ipython-input-10-516ea1e46075>\u001b[0m in \u001b[0;36m<module>\u001b[0;34m()\u001b[0m\n\u001b[1;32m     46\u001b[0m         \u001b[0mfilepath_ee\u001b[0m \u001b[1;33m=\u001b[0m \u001b[0mee_collection_path\u001b[0m \u001b[1;33m+\u001b[0m \u001b[1;34m'/'\u001b[0m \u001b[1;33m+\u001b[0m \u001b[0mfilename\u001b[0m\u001b[1;33m\u001b[0m\u001b[0m\n\u001b[1;32m     47\u001b[0m         \u001b[0mcmd\u001b[0m \u001b[1;33m=\u001b[0m \u001b[1;34m'earthengine upload image --wait --asset_id={0} --nodata_value={1} {2}'\u001b[0m            \u001b[1;33m.\u001b[0m\u001b[0mformat\u001b[0m\u001b[1;33m(\u001b[0m\u001b[0mfilepath_ee\u001b[0m\u001b[1;33m,\u001b[0m \u001b[0mnodata_value\u001b[0m\u001b[1;33m,\u001b[0m \u001b[0mfilepath_gs\u001b[0m\u001b[1;33m)\u001b[0m\u001b[1;33m\u001b[0m\u001b[0m\n\u001b[0;32m---> 48\u001b[0;31m         \u001b[0mrun\u001b[0m\u001b[1;33m(\u001b[0m\u001b[0mcmd\u001b[0m\u001b[1;33m)\u001b[0m\u001b[1;33m\u001b[0m\u001b[0m\n\u001b[0m\u001b[1;32m     49\u001b[0m \u001b[1;33m\u001b[0m\u001b[0m\n\u001b[1;32m     50\u001b[0m         \u001b[0mtime_start\u001b[0m \u001b[1;33m=\u001b[0m \u001b[0mint\u001b[0m\u001b[1;33m(\u001b[0m\u001b[0mgrids\u001b[0m\u001b[1;33m[\u001b[0m\u001b[1;36m0\u001b[0m\u001b[1;33m]\u001b[0m\u001b[1;33m[\u001b[0m\u001b[1;34m'times'\u001b[0m\u001b[1;33m]\u001b[0m\u001b[1;33m[\u001b[0m\u001b[1;36m0\u001b[0m\u001b[1;33m]\u001b[0m\u001b[1;33m.\u001b[0m\u001b[0mtimestamp\u001b[0m\u001b[1;33m(\u001b[0m\u001b[1;33m)\u001b[0m \u001b[1;33m*\u001b[0m \u001b[1;36m1000\u001b[0m\u001b[1;33m)\u001b[0m\u001b[1;33m\u001b[0m\u001b[0m\n",
      "\u001b[0;32m<ipython-input-9-0521bea3f11f>\u001b[0m in \u001b[0;36mrun\u001b[0;34m(cmd)\u001b[0m\n\u001b[1;32m      1\u001b[0m \u001b[1;32mdef\u001b[0m \u001b[0mrun\u001b[0m\u001b[1;33m(\u001b[0m\u001b[0mcmd\u001b[0m\u001b[1;33m)\u001b[0m\u001b[1;33m:\u001b[0m\u001b[1;33m\u001b[0m\u001b[0m\n\u001b[1;32m      2\u001b[0m     \u001b[1;31m# print(cmd)\u001b[0m\u001b[1;33m\u001b[0m\u001b[1;33m\u001b[0m\u001b[0m\n\u001b[0;32m----> 3\u001b[0;31m     \u001b[0msubprocess\u001b[0m\u001b[1;33m.\u001b[0m\u001b[0mcall\u001b[0m\u001b[1;33m(\u001b[0m\u001b[0mcmd\u001b[0m\u001b[1;33m)\u001b[0m\u001b[1;33m\u001b[0m\u001b[0m\n\u001b[0m",
      "\u001b[0;32mC:\\Program Files\\Anaconda3\\lib\\subprocess.py\u001b[0m in \u001b[0;36mcall\u001b[0;34m(timeout, *popenargs, **kwargs)\u001b[0m\n\u001b[1;32m    557\u001b[0m     \u001b[1;32mwith\u001b[0m \u001b[0mPopen\u001b[0m\u001b[1;33m(\u001b[0m\u001b[1;33m*\u001b[0m\u001b[0mpopenargs\u001b[0m\u001b[1;33m,\u001b[0m \u001b[1;33m**\u001b[0m\u001b[0mkwargs\u001b[0m\u001b[1;33m)\u001b[0m \u001b[1;32mas\u001b[0m \u001b[0mp\u001b[0m\u001b[1;33m:\u001b[0m\u001b[1;33m\u001b[0m\u001b[0m\n\u001b[1;32m    558\u001b[0m         \u001b[1;32mtry\u001b[0m\u001b[1;33m:\u001b[0m\u001b[1;33m\u001b[0m\u001b[0m\n\u001b[0;32m--> 559\u001b[0;31m             \u001b[1;32mreturn\u001b[0m \u001b[0mp\u001b[0m\u001b[1;33m.\u001b[0m\u001b[0mwait\u001b[0m\u001b[1;33m(\u001b[0m\u001b[0mtimeout\u001b[0m\u001b[1;33m=\u001b[0m\u001b[0mtimeout\u001b[0m\u001b[1;33m)\u001b[0m\u001b[1;33m\u001b[0m\u001b[0m\n\u001b[0m\u001b[1;32m    560\u001b[0m         \u001b[1;32mexcept\u001b[0m\u001b[1;33m:\u001b[0m\u001b[1;33m\u001b[0m\u001b[0m\n\u001b[1;32m    561\u001b[0m             \u001b[0mp\u001b[0m\u001b[1;33m.\u001b[0m\u001b[0mkill\u001b[0m\u001b[1;33m(\u001b[0m\u001b[1;33m)\u001b[0m\u001b[1;33m\u001b[0m\u001b[0m\n",
      "\u001b[0;32mC:\\Program Files\\Anaconda3\\lib\\subprocess.py\u001b[0m in \u001b[0;36mwait\u001b[0;34m(self, timeout, endtime)\u001b[0m\n\u001b[1;32m   1273\u001b[0m             \u001b[1;32mif\u001b[0m \u001b[0mself\u001b[0m\u001b[1;33m.\u001b[0m\u001b[0mreturncode\u001b[0m \u001b[1;32mis\u001b[0m \u001b[1;32mNone\u001b[0m\u001b[1;33m:\u001b[0m\u001b[1;33m\u001b[0m\u001b[0m\n\u001b[1;32m   1274\u001b[0m                 result = _winapi.WaitForSingleObject(self._handle,\n\u001b[0;32m-> 1275\u001b[0;31m                                                     timeout_millis)\n\u001b[0m\u001b[1;32m   1276\u001b[0m                 \u001b[1;32mif\u001b[0m \u001b[0mresult\u001b[0m \u001b[1;33m==\u001b[0m \u001b[0m_winapi\u001b[0m\u001b[1;33m.\u001b[0m\u001b[0mWAIT_TIMEOUT\u001b[0m\u001b[1;33m:\u001b[0m\u001b[1;33m\u001b[0m\u001b[0m\n\u001b[1;32m   1277\u001b[0m                     \u001b[1;32mraise\u001b[0m \u001b[0mTimeoutExpired\u001b[0m\u001b[1;33m(\u001b[0m\u001b[0mself\u001b[0m\u001b[1;33m.\u001b[0m\u001b[0margs\u001b[0m\u001b[1;33m,\u001b[0m \u001b[0mtimeout\u001b[0m\u001b[1;33m)\u001b[0m\u001b[1;33m\u001b[0m\u001b[0m\n",
      "\u001b[0;31mKeyboardInterrupt\u001b[0m: "
     ]
    }
   ],
   "source": [
    "i = 0\n",
    "start_index = 0\n",
    "for g in tqdm(grids):\n",
    "    ncols = len(g['x'])\n",
    "    nrows = len(g['y'])\n",
    "    cellsize = g['x'][1] - g['x'][0]\n",
    "    xllcorner = np.min(g['x'])\n",
    "    yllcorner = np.min(g['y'])\n",
    "    nodata_value = -32767\n",
    "    z = g['z']\n",
    "\n",
    "    for it, t in enumerate(g['times']):\n",
    "        if i < start_index:\n",
    "            i = i + 1\n",
    "            continue\n",
    "        \n",
    "        filename = 'bathymetry_' + str(i).rjust(3, '0')\n",
    "        filepath = '../output/' + filename\n",
    "        filepath_asc = filepath + '.asc'\n",
    "        filepath_tif = filepath + '.tif'\n",
    "        filename_tif = filename + '.tif'\n",
    "\n",
    "        zi = z[it]\n",
    "\n",
    "        with open(filepath_asc, 'w') as f:\n",
    "            f.write('ncols {0}\\n'.format(ncols))\n",
    "            f.write('nrows {0}\\n'.format(nrows))\n",
    "            f.write('cellsize {0}\\n'.format(cellsize))\n",
    "            f.write('xllcorner {0}\\n'.format(xllcorner))\n",
    "            f.write('yllcorner {0}\\n'.format(yllcorner))\n",
    "            f.write('nodata_value {0}\\n'.format(nodata_value))\n",
    "            for row in range(nrows):\n",
    "                s = ' '.join([str(v) for v in zi[row,]]).replace('--', str(nodata_value))\n",
    "                f.write(s)\n",
    "                f.write('\\n')\n",
    "\n",
    "        cmd = 'gdal_translate -ot Float32 -a_srs EPSG:28992 -co COMPRESS=DEFLATE -co PREDICTOR=2 -co ZLEVEL=6 -of GTiff {0} {1}'\\\n",
    "            .format(filepath_asc, filepath_tif)\n",
    "        run(cmd)\n",
    "        \n",
    "        filepath_gs = 'gs://hydro-earth/sandengine_lidar/' + filename_tif\n",
    "        \n",
    "        cmd = 'gsutil cp {0} {1}'\\\n",
    "            .format(filepath_tif, filepath_gs)\n",
    "        run(cmd)\n",
    "        \n",
    "        filepath_ee = ee_collection_path + '/' + filename        \n",
    "        cmd = 'earthengine upload image --wait --asset_id={0} --nodata_value={1} {2}'\\\n",
    "            .format(filepath_ee, nodata_value, filepath_gs)        \n",
    "        run(cmd)\n",
    "        \n",
    "        time_start = int(grids[0]['times'][0].timestamp() * 1000)\n",
    "        cmd = 'earthengine asset set --time_start {0} {1}'\\\n",
    "            .format(time_start, filepath_ee)\n",
    "        run(cmd)\n",
    "\n",
    "        cmd = 'earthengine acl set public {0}'\\\n",
    "            .format(filepath_ee)\n",
    "        run(cmd)\n",
    "        \n",
    "        i = i + 1"
   ]
  },
  {
   "cell_type": "code",
   "execution_count": null,
   "metadata": {},
   "outputs": [],
   "source": [
    "        filepath_gs = 'gs://hydro-earth/sandengine_lidar/' + filename_tif\n",
    "        \n",
    "        gsutil = 'D:/src/google-cloud-sdk/bin/gsutil.cmd' # relative path is not defined on Windows\n",
    "        cmd = gsutil + ' cp {0} {1}'\\\n",
    "            .format(filepath_tif, filepath_gs)\n",
    "        run(cmd)\n",
    "        \n",
    "        filepath_ee = ee_collection_path + '/' + filename        \n",
    "        cmd = 'earthengine upload image --wait --asset_id={0} --nodata_value={1} {2}'\\\n",
    "            .format(filepath_ee, nodata_value, filepath_gs)        \n",
    "        run(cmd)\n",
    "        \n",
    "        time_start = int(grids[0]['times'][0].timestamp() * 1000)\n",
    "        cmd = 'earthengine asset set --time_start {0} {1}'\\\n",
    "            .format(time_start, filepath_ee)\n",
    "        run(cmd)\n",
    "\n",
    "        cmd = 'earthengine acl set public {0}'\\\n",
    "            .format(filepath_ee)\n",
    "        run(cmd)\n"
   ]
  }
 ],
 "metadata": {
  "anaconda-cloud": {},
  "kernelspec": {
   "display_name": "Python 3",
   "language": "python",
   "name": "python3"
  },
  "language_info": {
   "codemirror_mode": {
    "name": "ipython",
    "version": 3
   },
   "file_extension": ".py",
   "mimetype": "text/x-python",
   "name": "python",
   "nbconvert_exporter": "python",
   "pygments_lexer": "ipython3",
   "version": "3.6.7"
  }
 },
 "nbformat": 4,
 "nbformat_minor": 2
}
